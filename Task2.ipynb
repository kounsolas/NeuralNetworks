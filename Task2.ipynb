{
 "cells": [
  {
   "cell_type": "markdown",
   "id": "f5292203-b395-4309-a71b-da753eb2baa1",
   "metadata": {},
   "source": [
    "# Notebook for exercise 2"
   ]
  },
  {
   "cell_type": "markdown",
   "id": "c90515b1-59de-4d77-b0aa-52cefc1f95c3",
   "metadata": {},
   "source": [
    "## 0. Get data ready"
   ]
  },
  {
   "cell_type": "code",
   "execution_count": 3,
   "id": "9ec11a13-87e9-4688-bc12-664399f0762a",
   "metadata": {},
   "outputs": [],
   "source": [
    "# Import the necessary libraries\n",
    "import os   #helps me erase a warning that i am getting\n",
    "import numpy as np  #the data are numpy when i first get them\n",
    "from sklearn.preprocessing import StandardScaler  #need this for standardizing the data\n",
    "from sklearn.decomposition import PCA #need this for the PCA in the data\n",
    "import torch\n",
    "from torch import nn #need this for my model (layers, loss functions, ...)\n",
    "from sklearn.metrics import accuracy_score #need this to measure the accuracy of the model\n",
    "import time  #need this to calcualate the training time\n",
    "from pathlib import Path #need this for the save_model(). \n",
    "import matplotlib.pyplot as plt  # need this for the model's plots\n",
    "import pandas as pd"
   ]
  },
  {
   "cell_type": "code",
   "execution_count": 4,
   "id": "1dec2adb-2a5e-45d0-980f-d535e249498a",
   "metadata": {},
   "outputs": [
    {
     "name": "stdout",
     "output_type": "stream",
     "text": [
      "Append: b'training batch 1 of 5'\n",
      "Append: b'training batch 2 of 5'\n",
      "Append: b'training batch 3 of 5'\n",
      "Append: b'training batch 4 of 5'\n",
      "Append: b'training batch 5 of 5'\n",
      "Append: b'testing batch 1 of 1'\n",
      "Shape X_train: (50000, 3072)\n",
      "Shape y_train: (50000,)\n",
      "Shape X_test: (10000, 3072)\n",
      "Shape y_test: (10000,)\n",
      "\n"
     ]
    }
   ],
   "source": [
    "os.environ[\"LOKY_MAX_CPU_COUNT\"] = \"8\"  # This line erases a warning that i am getting\n",
    "\n",
    "file_names = []\n",
    "files = []\n",
    "#create X_train, y_train, X_test, y_test\n",
    "X_train = np.full((50000,3072),0,dtype=int)\n",
    "X_test = np.full((10000,3072),0,dtype=int)\n",
    "y_train = np.full((50000,),0,dtype=int)\n",
    "y_test = np.full((10000,),0,dtype=int)\n",
    "\n",
    "# the unpickle() function loads the CIFAR-10 data from the file\n",
    "def unpickle(file):\n",
    "    import pickle\n",
    "    with open(file, 'rb') as fo:\n",
    "        dict = pickle.load(fo, encoding='bytes')\n",
    "    return dict\n",
    "\n",
    "# Creating a list with the names of the files\n",
    "for i in range(1,6):\n",
    "    file = f\"data_batch_{i}\"\n",
    "    file_names.append(file)\n",
    "file_names.append(\"test_batch\")\n",
    "\n",
    "#storing the unpickled dictionaries to a list\n",
    "for file in file_names:\n",
    "    cifar10_dict = unpickle(file)\n",
    "    files.append(cifar10_dict)\n",
    "\n",
    "# Splitting the data to train and test set\n",
    "# Printing the shapes to make sure that everything went well\n",
    "i=0\n",
    "for file in files:\n",
    "    print(f\"Append: {file[b'batch_label']}\")\n",
    "    if file[b'batch_label'] != b'testing batch 1 of 1':\n",
    "        #this is the X_train, y_train\n",
    "        X_train[i*10000:(i+1)*10000,:] = file[b'data']\n",
    "        y_train[i*10000:(i+1)*10000] = file[b'labels'] \n",
    "        i+=1\n",
    "       \n",
    "    else:\n",
    "        #i have just finished X_train, y_train   \n",
    "        #this is the X_test, y_test\n",
    "        X_test[:,:] = file[b'data']\n",
    "        y_test[:] = file[b'labels']\n",
    "        print(f\"Shape X_train: {X_train.shape}\\nShape y_train: {y_train.shape}\")\n",
    "        print(f\"Shape X_test: {X_test.shape}\\nShape y_test: {y_test.shape}\\n\")\n",
    "        \n",
    "        \n",
    "    "
   ]
  },
  {
   "cell_type": "markdown",
   "id": "7d3b80de-4198-4f7a-b77a-d6ec28fff42b",
   "metadata": {},
   "source": [
    "- The maximum margin classifier forms the basis of SVMs, searating classes with the widest posssible gap to ensure stability and robustness.\n",
    "This stability under perturbations makes it a <u>**powerful choice**</u> for tasks where <u>**small changes in data are common**</u>\n",
    "\n",
    "- SVMs are by definition two-class classifiers.\n",
    "\n",
    "- In scenarios where the number of classes (c > 2), Support Vector Machines (SVMs) can be extended to handle multiclass classification using two common approaches:\n",
    "1. One-vs-the-Rest Approach\n",
    "Train one SVM model for each class. For class i, the SVM distinguishes between class i and all other classes.\n",
    "\n",
    "2. One-vs-One Approach\n",
    "Train c(c-1)/2 binary SVM models, each for a pair of classes (one-vs-one).\n",
    "For a given input the predicted class is determined by **majority voting**, i.e., the class that receives the highest number of \"votes\" across all pairwise models is selected.\n"
   ]
  },
  {
   "cell_type": "markdown",
   "id": "04c20e82-871f-4c26-8e9f-f7a72b3a6854",
   "metadata": {},
   "source": [
    "# AN DO OTI PAIRNIE POLY ORA NA TREJEI MPORO NA KRATISO MONO 2 CLASSES ETSI OSTE NA TREXEI PIO GRIGORA KAI NA DOKIIMAZO PERISSOTERA PRAGMATA"
   ]
  },
  {
   "cell_type": "code",
   "execution_count": null,
   "id": "9d4f8fcf-2636-48c4-82fd-defbaf992042",
   "metadata": {},
   "outputs": [],
   "source": []
  },
  {
   "cell_type": "code",
   "execution_count": null,
   "id": "61472425-8781-43a5-a886-9061e33fcb97",
   "metadata": {},
   "outputs": [],
   "source": []
  },
  {
   "cell_type": "code",
   "execution_count": null,
   "id": "d135fc19-f867-4d9b-82bc-b23036c58f4e",
   "metadata": {},
   "outputs": [],
   "source": []
  }
 ],
 "metadata": {
  "kernelspec": {
   "display_name": "Python 3 (ipykernel)",
   "language": "python",
   "name": "python3"
  },
  "language_info": {
   "codemirror_mode": {
    "name": "ipython",
    "version": 3
   },
   "file_extension": ".py",
   "mimetype": "text/x-python",
   "name": "python",
   "nbconvert_exporter": "python",
   "pygments_lexer": "ipython3",
   "version": "3.11.10"
  }
 },
 "nbformat": 4,
 "nbformat_minor": 5
}
