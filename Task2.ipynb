{
 "cells": [
  {
   "cell_type": "markdown",
   "id": "f5292203-b395-4309-a71b-da753eb2baa1",
   "metadata": {},
   "source": [
    "# Notebook for exercise 2"
   ]
  },
  {
   "cell_type": "markdown",
   "id": "c90515b1-59de-4d77-b0aa-52cefc1f95c3",
   "metadata": {},
   "source": [
    "## 0. Get data ready"
   ]
  },
  {
   "cell_type": "code",
   "execution_count": 2,
   "id": "9ec11a13-87e9-4688-bc12-664399f0762a",
   "metadata": {},
   "outputs": [],
   "source": [
    "# Import the necessary libraries\n",
    "import os   #helps me erase a warning that i am getting\n",
    "import numpy as np  #the data are numpy when i first get them\n",
    "from sklearn.preprocessing import StandardScaler  #need this for standardizing the data\n",
    "from sklearn.decomposition import PCA #need this for the PCA in the data\n",
    "import torch\n",
    "from torch import nn #need this for my model (layers, loss functions, ...)\n",
    "from sklearn.metrics import accuracy_score #need this to measure the accuracy of the model\n",
    "import time  #need this to calcualate the training time\n",
    "from pathlib import Path #need this for the save_model(). \n",
    "import matplotlib.pyplot as plt  # need this for the model's plots\n",
    "import pandas as pd\n",
    "from sklearn.svm import SVC\n",
    "from sklearn.metrics import balanced_accuracy_score\n",
    "from sklearn.model_selection import GridSearchCV"
   ]
  },
  {
   "cell_type": "code",
   "execution_count": 3,
   "id": "1dec2adb-2a5e-45d0-980f-d535e249498a",
   "metadata": {},
   "outputs": [
    {
     "name": "stdout",
     "output_type": "stream",
     "text": [
      "Append: b'training batch 1 of 5'\n",
      "Append: b'training batch 2 of 5'\n",
      "Append: b'training batch 3 of 5'\n",
      "Append: b'training batch 4 of 5'\n",
      "Append: b'training batch 5 of 5'\n",
      "Append: b'testing batch 1 of 1'\n",
      "Shape X_train: (50000, 3072)\n",
      "Shape y_train: (50000,)\n",
      "Shape X_test: (10000, 3072)\n",
      "Shape y_test: (10000,)\n",
      "\n"
     ]
    }
   ],
   "source": [
    "os.environ[\"LOKY_MAX_CPU_COUNT\"] = \"8\"  # This line erases a warning that i am getting\n",
    "\n",
    "file_names = []\n",
    "files = []\n",
    "#create X_train, y_train, X_test, y_test\n",
    "X_train = np.full((50000,3072),0,dtype=int)\n",
    "X_test = np.full((10000,3072),0,dtype=int)\n",
    "y_train = np.full((50000,),0,dtype=int)\n",
    "y_test = np.full((10000,),0,dtype=int)\n",
    "\n",
    "# the unpickle() function loads the CIFAR-10 data from the file\n",
    "def unpickle(file):\n",
    "    import pickle\n",
    "    with open(file, 'rb') as fo:\n",
    "        dict = pickle.load(fo, encoding='bytes')\n",
    "    return dict\n",
    "\n",
    "# Creating a list with the names of the files\n",
    "for i in range(1,6):\n",
    "    file = f\"data_batch_{i}\"\n",
    "    file_names.append(file)\n",
    "file_names.append(\"test_batch\")\n",
    "\n",
    "#storing the unpickled dictionaries to a list\n",
    "for file in file_names:\n",
    "    cifar10_dict = unpickle(file)\n",
    "    files.append(cifar10_dict)\n",
    "\n",
    "# Splitting the data to train and test set\n",
    "# Printing the shapes to make sure that everything went well\n",
    "i=0\n",
    "for file in files:\n",
    "    print(f\"Append: {file[b'batch_label']}\")\n",
    "    if file[b'batch_label'] != b'testing batch 1 of 1':\n",
    "        #this is the X_train, y_train\n",
    "        X_train[i*10000:(i+1)*10000,:] = file[b'data']\n",
    "        y_train[i*10000:(i+1)*10000] = file[b'labels'] \n",
    "        i+=1\n",
    "       \n",
    "    else:\n",
    "        #i have just finished X_train, y_train   \n",
    "        #this is the X_test, y_test\n",
    "        X_test[:,:] = file[b'data']\n",
    "        y_test[:] = file[b'labels']\n",
    "        print(f\"Shape X_train: {X_train.shape}\\nShape y_train: {y_train.shape}\")\n",
    "        print(f\"Shape X_test: {X_test.shape}\\nShape y_test: {y_test.shape}\\n\")\n",
    "        \n",
    "        \n",
    "    "
   ]
  },
  {
   "cell_type": "code",
   "execution_count": 4,
   "id": "7280611f-e9a2-4494-8f85-85fd84f0e627",
   "metadata": {},
   "outputs": [
    {
     "name": "stdout",
     "output_type": "stream",
     "text": [
      "X_train_pca.shape = (50000, 131)\n",
      "X_test_pca.shape = (10000, 131)\n"
     ]
    }
   ],
   "source": [
    "pca = PCA(n_components = 0.92)\n",
    "X_train_pca = pca.fit_transform(X_train)\n",
    "X_test_pca = pca.transform(X_test)\n",
    "\n",
    "print(f\"X_train_pca.shape = {X_train_pca.shape}\")\n",
    "print(f\"X_test_pca.shape = {X_test_pca.shape}\")\n"
   ]
  },
  {
   "cell_type": "code",
   "execution_count": 5,
   "id": "136f466d-030b-47d8-a937-81e5dcfebcd0",
   "metadata": {},
   "outputs": [
    {
     "name": "stdout",
     "output_type": "stream",
     "text": [
      "X_train2.shape = (10000, 3072)\n",
      "y_train2.shape = (10000,)\n",
      "X_test2.shape = (2000, 3072)\n",
      "y_test2.shape = (2000,)\n"
     ]
    }
   ],
   "source": [
    "y_train2 = []\n",
    "X_train2 = []\n",
    "y_test2 = []\n",
    "X_test2 = []\n",
    "\n",
    "#For training\n",
    "for idx,value in enumerate(y_train):\n",
    "    if value == 0 or value == 1:\n",
    "        y_train2.append(value)\n",
    "        X_train2.append(X_train[idx,:])\n",
    "\n",
    "X_train2=np.array(X_train2)\n",
    "y_train2=np.array(y_train2)\n",
    "\n",
    "#For testing \n",
    "for idx,value in enumerate(y_test):\n",
    "    if value == 0 or value == 1:\n",
    "        y_test2.append(value)\n",
    "        X_test2.append(X_test[idx,:])\n",
    "\n",
    "X_test2=np.array(X_test2)\n",
    "y_test2=np.array(y_test2)\n",
    "\n",
    "\n",
    "\n",
    "\n",
    "print(f\"X_train2.shape = {X_train2.shape}\")\n",
    "print(f\"y_train2.shape = {y_train2.shape}\")\n",
    "print(f\"X_test2.shape = {X_test2.shape}\")\n",
    "print(f\"y_test2.shape = {y_test2.shape}\")"
   ]
  },
  {
   "cell_type": "code",
   "execution_count": 6,
   "id": "cd812302-ec64-4938-b1e5-2dfb0be1a020",
   "metadata": {},
   "outputs": [
    {
     "name": "stdout",
     "output_type": "stream",
     "text": [
      "X_train_pca.shape = (10000, 125)\n",
      "X_test_pca.shape = (2000, 125)\n"
     ]
    }
   ],
   "source": [
    "pca = PCA(n_components = 0.92)\n",
    "scaler = StandardScaler()\n",
    "\n",
    "X_train2_pca = pca.fit_transform(X_train2)\n",
    "X_test2_pca = pca.transform(X_test2)\n",
    "\n",
    "X_train2_sc_pca = scaler.fit_transform(X_train2_pca)\n",
    "X_test2_sc_pca = scaler.transform(X_test2_pca)\n",
    "\n",
    "print(f\"X_train_pca.shape = {X_train2_sc_pca.shape}\")\n",
    "print(f\"X_test_pca.shape = {X_test2_sc_pca.shape}\")"
   ]
  },
  {
   "cell_type": "code",
   "execution_count": 28,
   "id": "f7ac3664-7283-4fd6-ab7d-f6e5323cb5bd",
   "metadata": {},
   "outputs": [
    {
     "data": {
      "image/png": "[encoded data removed]",
      "text/plain": [
       "<Figure size 640x480 with 1 Axes>"
      ]
     },
     "metadata": {},
     "output_type": "display_data"
    }
   ],
   "source": [
    "pd.Series(y_train2).value_counts().sort_index().plot(kind='bar', rot=0);"
   ]
  },
  {
   "cell_type": "code",
   "execution_count": 29,
   "id": "f3b94cee-5ae2-4d0b-9c3a-206b10aff88a",
   "metadata": {},
   "outputs": [
    {
     "data": {
      "image/png": "[encoded data removed]",
      "text/plain": [
       "<Figure size 640x480 with 1 Axes>"
      ]
     },
     "metadata": {},
     "output_type": "display_data"
    }
   ],
   "source": [
    "pd.Series(y_test2).value_counts().sort_index().plot(kind='bar', rot=0);"
   ]
  },
  {
   "cell_type": "code",
   "execution_count": 7,
   "id": "6b12948e-f40e-42bc-a816-73bbc00dc728",
   "metadata": {},
   "outputs": [],
   "source": [
    "# svms_b_acc = []\n",
    "\n",
    "def train_test_svm(model,X_train,X_test,y_train,y_test):\n",
    "    start_time = time.time()\n",
    "    \n",
    "    model.fit(X_train,y_train)\n",
    "\n",
    "    y_pred = model.predict(X_test)\n",
    "\n",
    "    end_time=time.time()\n",
    "\n",
    "    b_acc = balanced_accuracy_score(y_test,y_pred)\n",
    "\n",
    "    print(f\"Total time: {(end_time-start_time):.2f}s | Test Balanced accuracy: {round(b_acc*100,2):.2f}%\")\n",
    "\n",
    "    return round(b_acc*100,2)\n",
    "\n",
    "\n",
    "\n",
    "\n"
   ]
  },
  {
   "cell_type": "code",
   "execution_count": 31,
   "id": "aee2d962-4d79-4db0-a016-068f290da6cd",
   "metadata": {},
   "outputs": [
    {
     "name": "stdout",
     "output_type": "stream",
     "text": [
      "Total time: 490.3570101261139\n",
      "SVMv1 balanced accuracy: 53.84\n"
     ]
    }
   ],
   "source": [
    "svm_v0 = SVC()\n",
    "b_acc = train_test_svm(svm_v0,X_train_pca,X_test_pca,y_train,y_test)\n",
    "\n",
    "\n",
    "print(f\"SVMv1 balanced accuracy: {b_acc}\")\n"
   ]
  },
  {
   "cell_type": "markdown",
   "id": "cde23d44-3228-4a81-bb26-4f4151260325",
   "metadata": {},
   "source": [
    "IT TAKES TO MUCH TIME. SO FROM NOW ON I WILL WORK WITH ONLY 2 CLASSES"
   ]
  },
  {
   "cell_type": "code",
   "execution_count": 44,
   "id": "58ea0c1e-f28a-4aa8-8e47-d75a26599204",
   "metadata": {},
   "outputs": [
    {
     "name": "stdout",
     "output_type": "stream",
     "text": [
      "Total time: 7.98s | Test Balanced accuracy: 90.60%\n"
     ]
    }
   ],
   "source": [
    "svm_v1 = SVC()\n",
    "b_acc = train_test_svm(svm_v1,X_train2_sc_pca,X_test2_sc_pca,y_train2,y_test2)\n"
   ]
  },
  {
   "cell_type": "code",
   "execution_count": 11,
   "id": "a5fa9f55-e166-458e-9841-f8fd2f56cde9",
   "metadata": {},
   "outputs": [
    {
     "name": "stdout",
     "output_type": "stream",
     "text": [
      "Total time: 15.25s | Test Balanced accuracy: 51.50%\n"
     ]
    }
   ],
   "source": [
    "svm_v2 = SVC(kernel='poly',degree=5)\n",
    "b_acc = train_test_svm(svm_v2,X_train2_sc_pca,X_test2_sc_pca,y_train2,y_test2)\n"
   ]
  },
  {
   "cell_type": "code",
   "execution_count": null,
   "id": "f23a54dd-2d06-4855-ac00-82237f4ea1aa",
   "metadata": {},
   "outputs": [],
   "source": []
  },
  {
   "cell_type": "code",
   "execution_count": null,
   "id": "084cbc5d-9c48-4345-8a9a-a76effd2fe8b",
   "metadata": {},
   "outputs": [],
   "source": []
  },
  {
   "cell_type": "code",
   "execution_count": null,
   "id": "7bbf7756-7e46-4c51-b938-ce796765b4cc",
   "metadata": {},
   "outputs": [],
   "source": []
  },
  {
   "cell_type": "code",
   "execution_count": null,
   "id": "d56af8f3-0c7a-41a2-abb9-f3334357a757",
   "metadata": {},
   "outputs": [],
   "source": []
  },
  {
   "cell_type": "code",
   "execution_count": null,
   "id": "f5fa7dcf-be97-4835-9a75-276655f21de8",
   "metadata": {},
   "outputs": [],
   "source": []
  },
  {
   "cell_type": "code",
   "execution_count": null,
   "id": "91435cf3-9f46-4d5f-8dca-ef294f4fd635",
   "metadata": {},
   "outputs": [],
   "source": []
  },
  {
   "cell_type": "code",
   "execution_count": null,
   "id": "cb560121-e753-4242-a88a-85ce3a610b24",
   "metadata": {},
   "outputs": [],
   "source": []
  },
  {
   "cell_type": "code",
   "execution_count": null,
   "id": "2fb93d45-04c1-4daa-a46e-91c14b27c196",
   "metadata": {},
   "outputs": [],
   "source": []
  },
  {
   "cell_type": "code",
   "execution_count": null,
   "id": "9da70d7f-443f-4ea2-8867-eb0143a1b4f5",
   "metadata": {},
   "outputs": [],
   "source": []
  },
  {
   "cell_type": "code",
   "execution_count": null,
   "id": "3df50709-fc69-4d7a-a8d0-cacf7b92f4fe",
   "metadata": {},
   "outputs": [],
   "source": []
  },
  {
   "cell_type": "code",
   "execution_count": null,
   "id": "1d79db91-a1a5-4342-9191-47fd6b77920c",
   "metadata": {},
   "outputs": [],
   "source": []
  },
  {
   "cell_type": "code",
   "execution_count": null,
   "id": "dfee7fb7-5bb7-4f30-ac0a-649a577a107c",
   "metadata": {},
   "outputs": [],
   "source": []
  },
  {
   "cell_type": "code",
   "execution_count": null,
   "id": "d8f22fc4-e26d-4564-a62c-ab97a13e0ae7",
   "metadata": {},
   "outputs": [],
   "source": []
  },
  {
   "cell_type": "code",
   "execution_count": null,
   "id": "bb1fb9dc-59e8-4ed9-82bd-8b024bb4edb5",
   "metadata": {},
   "outputs": [],
   "source": []
  },
  {
   "cell_type": "code",
   "execution_count": null,
   "id": "16527349-1694-4cb7-94be-e7f7823c8474",
   "metadata": {},
   "outputs": [],
   "source": []
  },
  {
   "cell_type": "code",
   "execution_count": null,
   "id": "4c7d2844-e349-40d2-afae-fc241ce3b72c",
   "metadata": {},
   "outputs": [],
   "source": []
  },
  {
   "cell_type": "code",
   "execution_count": null,
   "id": "bc7de68d-33a8-43b0-ad19-ef6ea32c00e2",
   "metadata": {},
   "outputs": [],
   "source": []
  },
  {
   "cell_type": "code",
   "execution_count": null,
   "id": "09e88191-ae16-49fa-ac54-65ba7c659920",
   "metadata": {},
   "outputs": [],
   "source": []
  },
  {
   "cell_type": "code",
   "execution_count": null,
   "id": "49a891ef-a7f2-4f0e-8f2c-b83bab494287",
   "metadata": {},
   "outputs": [],
   "source": []
  },
  {
   "cell_type": "code",
   "execution_count": null,
   "id": "ef552eab-6545-4c8a-8fe8-e049f45991ee",
   "metadata": {},
   "outputs": [],
   "source": []
  },
  {
   "cell_type": "code",
   "execution_count": null,
   "id": "1fc5bf4d-f172-4833-b16c-4135f3cfda7e",
   "metadata": {},
   "outputs": [],
   "source": []
  },
  {
   "cell_type": "code",
   "execution_count": null,
   "id": "170ede65-05af-4250-a905-1c6997e6fe28",
   "metadata": {},
   "outputs": [],
   "source": []
  },
  {
   "cell_type": "code",
   "execution_count": null,
   "id": "0df68470-9234-4703-9abe-4efbf348baf9",
   "metadata": {},
   "outputs": [],
   "source": []
  },
  {
   "cell_type": "code",
   "execution_count": null,
   "id": "02a5f113-6b3e-4151-91a3-74a21a17792c",
   "metadata": {},
   "outputs": [],
   "source": []
  },
  {
   "cell_type": "code",
   "execution_count": null,
   "id": "d3651406-ab65-4385-b584-7a55c7d0ac9a",
   "metadata": {},
   "outputs": [],
   "source": []
  },
  {
   "cell_type": "code",
   "execution_count": null,
   "id": "99d65c6b-0826-48d0-ab42-775a45fb54c6",
   "metadata": {},
   "outputs": [],
   "source": []
  },
  {
   "cell_type": "code",
   "execution_count": null,
   "id": "b18c01a8-1034-4452-af8e-7f01eee2c10e",
   "metadata": {},
   "outputs": [],
   "source": []
  },
  {
   "cell_type": "code",
   "execution_count": null,
   "id": "60001013-8e0f-4b70-af67-fe12bf411a9e",
   "metadata": {},
   "outputs": [],
   "source": []
  },
  {
   "cell_type": "code",
   "execution_count": null,
   "id": "f56604ce-684e-448a-8f11-26081b7a6123",
   "metadata": {},
   "outputs": [
    {
     "name": "stdout",
     "output_type": "stream",
     "text": [
      "Fitting 3 folds for each of 6 candidates, totalling 18 fits\n"
     ]
    },
    {
     "name": "stderr",
     "output_type": "stream",
     "text": [
      "C:\\Users\\xkoun\\anaconda3\\envs\\MachineLearning\\Lib\\site-packages\\sklearn\\model_selection\\_search.py:1102: UserWarning: One or more of the test scores are non-finite: [nan nan nan nan nan nan]\n",
      "  warnings.warn(\n",
      "C:\\Users\\xkoun\\anaconda3\\envs\\MachineLearning\\Lib\\site-packages\\sklearn\\model_selection\\_search.py:1102: UserWarning: One or more of the train scores are non-finite: [nan nan nan nan nan nan]\n",
      "  warnings.warn(\n"
     ]
    },
    {
     "name": "stdout",
     "output_type": "stream",
     "text": [
      "\n",
      "Best parameters: {'degree': 2, 'kernel': 'poly'}\n"
     ]
    }
   ],
   "source": [
    "param_grid={\n",
    "    \"kernel\":[\"poly\",\"rbf\"],\n",
    "    \"degree\":[2,3,4], \n",
    "}\n",
    "\n",
    "grid_search = GridSearchCV(SVC(),param_grid,cv=3,scoring=balanced_accuracy_score,n_jobs=-1,verbose=4, return_train_score=True)\n",
    "\n",
    "grid_search.fit(X_train,y_train)\n",
    "\n",
    "print(f\"\\nBest parameters: {grid_search.best_params_}\")\n",
    "\n",
    "best_svm = grid_search.best_estimator_\n",
    "\n",
    "\n",
    "\n",
    "\n",
    "y_pred_best = best_svm.predict(X_test)\n",
    "best_acc = balanced_accuracy_score(y_test,y_pred_best)\n",
    "print(f\"best balanced accuracy: {best_acc}\")"
   ]
  },
  {
   "cell_type": "markdown",
   "id": "37f9503d-2cf1-455c-aad5-1b98c512ff58",
   "metadata": {},
   "source": [
    "PCA AND STANDARD SCALE THE X"
   ]
  },
  {
   "cell_type": "markdown",
   "id": "7d3b80de-4198-4f7a-b77a-d6ec28fff42b",
   "metadata": {},
   "source": [
    "- The maximum margin classifier forms the basis of SVMs, searating classes with the widest posssible gap to ensure stability and robustness.\n",
    "This stability under perturbations makes it a <u>**powerful choice**</u> for tasks where <u>**small changes in data are common**</u>\n",
    "\n",
    "- SVMs are by definition two-class classifiers.\n",
    "\n",
    "- In scenarios where the number of classes (c > 2), Support Vector Machines (SVMs) can be extended to handle multiclass classification using two common approaches:\n",
    "1. One-vs-the-Rest Approach\n",
    "Train one SVM model for each class. For class i, the SVM distinguishes between class i and all other classes.\n",
    "\n",
    "2. One-vs-One Approach\n",
    "Train c(c-1)/2 binary SVM models, each for a pair of classes (one-vs-one).\n",
    "For a given input the predicted class is determined by **majority voting**, i.e., the class that receives the highest number of \"votes\" across all pairwise models is selected.\n"
   ]
  },
  {
   "cell_type": "markdown",
   "id": "04c20e82-871f-4c26-8e9f-f7a72b3a6854",
   "metadata": {},
   "source": [
    "# AN DO OTI PAIRNIE POLY ORA NA TREJEI MPORO NA KRATISO MONO 2 CLASSES ETSI OSTE NA TREXEI PIO GRIGORA KAI NA DOKIIMAZO PERISSOTERA PRAGMATA"
   ]
  },
  {
   "cell_type": "code",
   "execution_count": null,
   "id": "9d4f8fcf-2636-48c4-82fd-defbaf992042",
   "metadata": {},
   "outputs": [],
   "source": []
  },
  {
   "cell_type": "code",
   "execution_count": null,
   "id": "61472425-8781-43a5-a886-9061e33fcb97",
   "metadata": {},
   "outputs": [],
   "source": []
  },
  {
   "cell_type": "code",
   "execution_count": null,
   "id": "d135fc19-f867-4d9b-82bc-b23036c58f4e",
   "metadata": {},
   "outputs": [],
   "source": []
  }
 ],
 "metadata": {
  "kernelspec": {
   "display_name": "Python 3 (ipykernel)",
   "language": "python",
   "name": "python3"
  },
  "language_info": {
   "codemirror_mode": {
    "name": "ipython",
    "version": 3
   },
   "file_extension": ".py",
   "mimetype": "text/x-python",
   "name": "python",
   "nbconvert_exporter": "python",
   "pygments_lexer": "ipython3",
   "version": "3.11.10"
  }
 },
 "nbformat": 4,
 "nbformat_minor": 5
}
