{
 "cells": [
  {
   "cell_type": "markdown",
   "id": "f5292203-b395-4309-a71b-da753eb2baa1",
   "metadata": {},
   "source": [
    "# Notebook for exercise 2"
   ]
  },
  {
   "cell_type": "markdown",
   "id": "c90515b1-59de-4d77-b0aa-52cefc1f95c3",
   "metadata": {},
   "source": [
    "## 0. Get data ready"
   ]
  },
  {
   "cell_type": "code",
   "execution_count": 30,
   "id": "2c7c0bad-c37d-4afe-ac7b-da1d6eaa8ef7",
   "metadata": {},
   "outputs": [
    {
     "name": "stdout",
     "output_type": "stream",
     "text": [
      "Append: b'training batch 1 of 5'\n",
      "Append: b'training batch 2 of 5'\n",
      "Append: b'training batch 3 of 5'\n",
      "Append: b'training batch 4 of 5'\n",
      "Append: b'training batch 5 of 5'\n",
      "Append: b'testing batch 1 of 1'\n",
      "Shape X_train: (50000, 3072)\n",
      "Shape y_train: (50000,)\n",
      "Shape X_test: (10000, 3072)\n",
      "Shape y_test: (10000,)\n",
      "\n"
     ]
    }
   ],
   "source": [
    "# Import the necessary libraries\n",
    "import os   #helps me erase a warning that i am getting\n",
    "import numpy as np  #the data are numpy when i first get them\n",
    "from sklearn.preprocessing import StandardScaler  #need this for standardizing the data\n",
    "from sklearn.decomposition import PCA #need this for the PCA in the data\n",
    "import torch\n",
    "from torch import nn #need this for my model (layers, loss functions, ...)\n",
    "from sklearn.metrics import accuracy_score #need this to measure the accuracy of the model\n",
    "import time  #need this to calcualate the training time\n",
    "from pathlib import Path #need this for the save_model(). \n",
    "import matplotlib.pyplot as plt  # need this for the model's plots\n",
    "import pandas as pd\n",
    "from sklearn.svm import SVC\n",
    "from sklearn.metrics import balanced_accuracy_score\n",
    "from sklearn.model_selection import GridSearchCV\n",
    "\n",
    "from sklearn.multiclass import OneVsRestClassifier\n",
    "from sklearn.metrics.pairwise import euclidean_distances\n",
    "from sklearn.model_selection import RandomizedSearchCV\n",
    "\n",
    "\n",
    "os.environ[\"LOKY_MAX_CPU_COUNT\"] = \"8\"  # This line erases a warning that i am getting\n",
    "\n",
    "file_names = []\n",
    "files = []\n",
    "#create X_train, y_train, X_test, y_test\n",
    "X_train = np.full((50000,3072),0,dtype=int)\n",
    "X_test = np.full((10000,3072),0,dtype=int)\n",
    "y_train = np.full((50000,),0,dtype=int)\n",
    "y_test = np.full((10000,),0,dtype=int)\n",
    "\n",
    "# the unpickle() function loads the CIFAR-10 data from the file\n",
    "def unpickle(file):\n",
    "    import pickle\n",
    "    with open(file, 'rb') as fo:\n",
    "        dict = pickle.load(fo, encoding='bytes')\n",
    "    return dict\n",
    "\n",
    "# Creating a list with the names of the files\n",
    "for i in range(1,6):\n",
    "    file = f\"data_batch_{i}\"\n",
    "    file_names.append(file)\n",
    "file_names.append(\"test_batch\")\n",
    "\n",
    "#storing the unpickled dictionaries to a list\n",
    "for file in file_names:\n",
    "    cifar10_dict = unpickle(file)\n",
    "    files.append(cifar10_dict)\n",
    "\n",
    "# Splitting the data to train and test set\n",
    "# Printing the shapes to make sure that everything went well\n",
    "i=0\n",
    "for file in files:\n",
    "    print(f\"Append: {file[b'batch_label']}\")\n",
    "    if file[b'batch_label'] != b'testing batch 1 of 1':\n",
    "        #this is the X_train, y_train\n",
    "        X_train[i*10000:(i+1)*10000,:] = file[b'data']\n",
    "        y_train[i*10000:(i+1)*10000] = file[b'labels'] \n",
    "        i+=1\n",
    "       \n",
    "    else:\n",
    "        #i have just finished X_train, y_train   \n",
    "        #this is the X_test, y_test\n",
    "        X_test[:,:] = file[b'data']\n",
    "        y_test[:] = file[b'labels']\n",
    "        print(f\"Shape X_train: {X_train.shape}\\nShape y_train: {y_train.shape}\")\n",
    "        print(f\"Shape X_test: {X_test.shape}\\nShape y_test: {y_test.shape}\\n\")\n",
    "        \n",
    "        \n",
    "    "
   ]
  },
  {
   "cell_type": "code",
   "execution_count": 3,
   "id": "7280611f-e9a2-4494-8f85-85fd84f0e627",
   "metadata": {},
   "outputs": [
    {
     "name": "stdout",
     "output_type": "stream",
     "text": [
      "X_train_sc_pca.shape = (50000, 131)\n",
      "X_test_sc_pca.shape = (10000, 131)\n"
     ]
    }
   ],
   "source": [
    "pca = PCA(n_components = 0.92)\n",
    "X_train_pca = pca.fit_transform(X_train)\n",
    "X_test_pca = pca.transform(X_test)\n",
    "\n",
    "scaler = StandardScaler()\n",
    "X_train_sc_pca = scaler.fit_transform(X_train_pca)\n",
    "X_test_sc_pca = scaler.transform(X_test_pca)\n",
    "\n",
    "print(f\"X_train_sc_pca.shape = {X_train_sc_pca.shape}\")\n",
    "print(f\"X_test_sc_pca.shape = {X_test_sc_pca.shape}\")\n"
   ]
  },
  {
   "cell_type": "code",
   "execution_count": 4,
   "id": "136f466d-030b-47d8-a937-81e5dcfebcd0",
   "metadata": {},
   "outputs": [
    {
     "name": "stdout",
     "output_type": "stream",
     "text": [
      "X_train2.shape = (10000, 3072)\n",
      "y_train2.shape = (10000,)\n",
      "X_test2.shape = (2000, 3072)\n",
      "y_test2.shape = (2000,)\n"
     ]
    }
   ],
   "source": [
    "y_train2 = []\n",
    "X_train2 = []\n",
    "y_test2 = []\n",
    "X_test2 = []\n",
    "\n",
    "#For training\n",
    "for idx,value in enumerate(y_train):\n",
    "    if value == 0 or value == 1:\n",
    "        y_train2.append(value)\n",
    "        X_train2.append(X_train[idx,:])\n",
    "\n",
    "X_train2=np.array(X_train2)\n",
    "y_train2=np.array(y_train2)\n",
    "\n",
    "#For testing \n",
    "for idx,value in enumerate(y_test):\n",
    "    if value == 0 or value == 1:\n",
    "        y_test2.append(value)\n",
    "        X_test2.append(X_test[idx,:])\n",
    "\n",
    "X_test2=np.array(X_test2)\n",
    "y_test2=np.array(y_test2)\n",
    "\n",
    "\n",
    "\n",
    "\n",
    "print(f\"X_train2.shape = {X_train2.shape}\")\n",
    "print(f\"y_train2.shape = {y_train2.shape}\")\n",
    "print(f\"X_test2.shape = {X_test2.shape}\")\n",
    "print(f\"y_test2.shape = {y_test2.shape}\")"
   ]
  },
  {
   "cell_type": "code",
   "execution_count": 5,
   "id": "cd812302-ec64-4938-b1e5-2dfb0be1a020",
   "metadata": {},
   "outputs": [
    {
     "name": "stdout",
     "output_type": "stream",
     "text": [
      "X_train2_pca.shape = (10000, 125)\n",
      "X_test2_pca.shape = (2000, 125)\n"
     ]
    }
   ],
   "source": [
    "pca = PCA(n_components = 0.92)\n",
    "scaler = StandardScaler()\n",
    "\n",
    "X_train2_pca = pca.fit_transform(X_train2)\n",
    "X_test2_pca = pca.transform(X_test2)\n",
    "\n",
    "X_train2_sc_pca = scaler.fit_transform(X_train2_pca)\n",
    "X_test2_sc_pca = scaler.transform(X_test2_pca)\n",
    "\n",
    "print(f\"X_train2_pca.shape = {X_train2_sc_pca.shape}\")\n",
    "print(f\"X_test2_pca.shape = {X_test2_sc_pca.shape}\")"
   ]
  },
  {
   "cell_type": "code",
   "execution_count": 28,
   "id": "f7ac3664-7283-4fd6-ab7d-f6e5323cb5bd",
   "metadata": {},
   "outputs": [
    {
     "data": {
      "image/png": "[encoded data removed]",
      "text/plain": [
       "<Figure size 640x480 with 1 Axes>"
      ]
     },
     "metadata": {},
     "output_type": "display_data"
    }
   ],
   "source": [
    "pd.Series(y_train2).value_counts().sort_index().plot(kind='bar', rot=0);"
   ]
  },
  {
   "cell_type": "code",
   "execution_count": 29,
   "id": "f3b94cee-5ae2-4d0b-9c3a-206b10aff88a",
   "metadata": {},
   "outputs": [
    {
     "data": {
      "image/png": "[encoded data removed]",
      "text/plain": [
       "<Figure size 640x480 with 1 Axes>"
      ]
     },
     "metadata": {},
     "output_type": "display_data"
    }
   ],
   "source": [
    "pd.Series(y_test2).value_counts().sort_index().plot(kind='bar', rot=0);"
   ]
  },
  {
   "cell_type": "code",
   "execution_count": 6,
   "id": "6b12948e-f40e-42bc-a816-73bbc00dc728",
   "metadata": {},
   "outputs": [],
   "source": [
    "# svms_b_acc = []\n",
    "\n",
    "def train_test_svm(model,X_train,X_test,y_train,y_test):\n",
    "    start_time = time.time()\n",
    "    \n",
    "    model.fit(X_train,y_train)\n",
    "\n",
    "    y_pred = model.predict(X_test)\n",
    "\n",
    "    end_time=time.time()\n",
    "\n",
    "    b_acc = balanced_accuracy_score(y_test,y_pred)\n",
    "\n",
    "    print(f\"Total time: {(end_time-start_time):.2f}s | Test Balanced accuracy: {round(b_acc*100,2):.2f}%\")\n",
    "\n",
    "    return round(b_acc*100,2)\n",
    "\n",
    "\n",
    "\n",
    "\n"
   ]
  },
  {
   "cell_type": "code",
   "execution_count": 31,
   "id": "aee2d962-4d79-4db0-a016-068f290da6cd",
   "metadata": {},
   "outputs": [
    {
     "name": "stdout",
     "output_type": "stream",
     "text": [
      "Total time: 490.3570101261139\n",
      "SVMv1 balanced accuracy: 53.84\n"
     ]
    }
   ],
   "source": [
    "svm_v0 = SVC()\n",
    "b_acc = train_test_svm(svm_v0,X_train_pca,X_test_pca,y_train,y_test)\n",
    "\n",
    "\n",
    "print(f\"SVMv1 balanced accuracy: {b_acc}\")\n"
   ]
  },
  {
   "cell_type": "markdown",
   "id": "cde23d44-3228-4a81-bb26-4f4151260325",
   "metadata": {},
   "source": [
    "# IT TAKES TO MUCH TIME. SO FROM NOW ON I WILL WORK WITH ONLY 2 CLASSES"
   ]
  },
  {
   "cell_type": "code",
   "execution_count": 8,
   "id": "58ea0c1e-f28a-4aa8-8e47-d75a26599204",
   "metadata": {},
   "outputs": [
    {
     "name": "stdout",
     "output_type": "stream",
     "text": [
      "Total time: 11.13s | Test Balanced accuracy: 90.60%\n"
     ]
    }
   ],
   "source": [
    "svm_v1 = SVC()\n",
    "b_acc = train_test_svm(svm_v1,X_train2_sc_pca,X_test2_sc_pca,y_train2,y_test2)\n"
   ]
  },
  {
   "cell_type": "code",
   "execution_count": 21,
   "id": "a5fa9f55-e166-458e-9841-f8fd2f56cde9",
   "metadata": {},
   "outputs": [
    {
     "name": "stdout",
     "output_type": "stream",
     "text": [
      "Fitting 3 folds for each of 36 candidates, totalling 108 fits\n",
      "\n",
      "Best parameters: {'C': 1, 'coef0': 10, 'degree': 2, 'gamma': 0.01, 'kernel': 'poly'}\n",
      "best balanced accuracy: 90.9%\n"
     ]
    }
   ],
   "source": [
    "# A low C encourages a simpler model with a wider margin but may lead to some misclassifications.\n",
    "# A high C tries to classify all training points correctly, potentially causing overfitting\n",
    "\n",
    "# Small coef0: Focuses on higher-degree polynomial terms, capturing more complex relationships in data.\n",
    "# Large coef0: Gives more importance to lower-degree terms, leading to simpler decision boundaries.\n",
    "\n",
    "# Small gamma values: A wide influence, resulting in a smoother decision boundary (underfitting risk).\n",
    "# Large gamma values: A narrow influence, allowing the model to fit more details (overfitting risk).\n",
    "\n",
    "param_grid={\n",
    "    \"kernel\":[\"poly\"],\n",
    "    \"degree\":[2], \n",
    "    \"gamma\":[0.001,0.01,0.1,1],\n",
    "    \"C\":[0.1,1,10],   #\n",
    "    \"coef0\":[0,1,10]\n",
    "}\n",
    "\n",
    "grid_search = GridSearchCV(SVC(),param_grid,cv=3,scoring=\"balanced_accuracy\",n_jobs=-1,verbose=2)\n",
    "\n",
    "grid_search.fit(X_train2_sc_pca,y_train2)\n",
    "\n",
    "print(f\"\\nBest parameters: {grid_search.best_params_}\")\n",
    "\n",
    "best_svm = grid_search.best_estimator_\n",
    "\n",
    "\n",
    "\n",
    "\n",
    "y_pred2_best = best_svm.predict(X_test2_sc_pca)\n",
    "best_acc = balanced_accuracy_score(y_test2,y_pred2_best)\n",
    "print(f\"best balanced accuracy: {round(best_acc*100,2)}%\")\n",
    "\n",
    "# svm_v2 = SVC(kernel='poly',degree=2)\n",
    "# b_acc = train_test_svm(svm_v2,X_train2_sc_pca,X_test2_sc_pca,y_train2,y_test2)\n"
   ]
  },
  {
   "cell_type": "code",
   "execution_count": 24,
   "id": "f23a54dd-2d06-4855-ac00-82237f4ea1aa",
   "metadata": {},
   "outputs": [
    {
     "name": "stdout",
     "output_type": "stream",
     "text": [
      "Fitting 3 folds for each of 20 candidates, totalling 60 fits\n",
      "\n",
      "Best parameters: {'C': 100, 'gamma': 0.01, 'kernel': 'rbf'}\n",
      "best balanced accuracy: 90.7%\n"
     ]
    }
   ],
   "source": [
    "# When to Use the RBF Kernel\n",
    "# Nonlinear Problems: When the relationship between features and classes is not linear.\n",
    "# High-Dimensional Data: RBF works well even when the number of features is much larger than the number of samples.\n",
    "\n",
    "param_grid = {\n",
    "    \"C\": [0.1, 1, 10, 100, 200],  # Regularization parameter\n",
    "    \"gamma\": [0.001, 0.01, 0.1, 1],  # RBF kernel parameter\n",
    "    \"kernel\": [\"rbf\"]\n",
    "}\n",
    "\n",
    "grid_search = GridSearchCV(SVC(), param_grid, cv=3, scoring=\"balanced_accuracy\", verbose=3, n_jobs=-1)\n",
    "\n",
    "grid_search.fit(X_train2_sc_pca,y_train2)\n",
    "\n",
    "print(f\"\\nBest parameters: {grid_search.best_params_}\")\n",
    "\n",
    "best_svm = grid_search.best_estimator_\n",
    "\n",
    "\n",
    "y_pred2_best = best_svm.predict(X_test2_sc_pca)\n",
    "best_acc = balanced_accuracy_score(y_test2,y_pred2_best)\n",
    "print(f\"best balanced accuracy: {round(best_acc*100,2)}%\")"
   ]
  },
  {
   "cell_type": "code",
   "execution_count": 26,
   "id": "084cbc5d-9c48-4345-8a9a-a76effd2fe8b",
   "metadata": {},
   "outputs": [
    {
     "name": "stdout",
     "output_type": "stream",
     "text": [
      "Fitting 3 folds for each of 4 candidates, totalling 12 fits\n",
      "\n",
      "Best parameters: {'C': 1, 'kernel': 'linear'}\n",
      "best balanced accuracy: 82.75%\n"
     ]
    }
   ],
   "source": [
    "# When to Use the Linear Kernel\n",
    "\n",
    "# Linearly Separable Data: Works well if the classes can be separated with a straight line or a hyperplane.\n",
    "# High-Dimensional Data: Performs well in cases where the number of features is very large (e.g., text classification, where features are word counts or embeddings).\n",
    "# Efficiency: Faster to compute compared to non-linear kernels (like RBF or polynomial), as it avoids complex transformations.\n",
    "# Low Noise: Best suited for datasets with less noise or overlap between classes.\n",
    "\n",
    "param_grid = {\n",
    "    \"kernel\":[\"linear\"],\n",
    "    \"C\": [0.1, 1, 10, 100]\n",
    "}\n",
    "\n",
    "grid_search = GridSearchCV(SVC(), param_grid, cv=3, scoring=\"balanced_accuracy\", verbose=3, n_jobs=-1)\n",
    "\n",
    "grid_search.fit(X_train2_sc_pca,y_train2)\n",
    "\n",
    "print(f\"\\nBest parameters: {grid_search.best_params_}\")\n",
    "\n",
    "best_svm = grid_search.best_estimator_\n",
    "\n",
    "\n",
    "y_pred2_best = best_svm.predict(X_test2_sc_pca)\n",
    "best_acc = balanced_accuracy_score(y_test2,y_pred2_best)\n",
    "print(f\"best balanced accuracy: {round(best_acc*100,2)}%\")"
   ]
  },
  {
   "cell_type": "markdown",
   "id": "1c8b8d9d-4902-4067-b514-657781af6e9f",
   "metadata": {},
   "source": [
    "# FROM THE ABOVE I SEE THAT THE BEST CHOISES PROBABLY ARE POLY AND RBF. BELOW I WILL TAKE THE 10 CLASSES"
   ]
  },
  {
   "cell_type": "code",
   "execution_count": 14,
   "id": "d56af8f3-0c7a-41a2-abb9-f3334357a757",
   "metadata": {},
   "outputs": [
    {
     "ename": "KeyboardInterrupt",
     "evalue": "",
     "output_type": "error",
     "traceback": [
      "\u001b[1;31m---------------------------------------------------------------------------\u001b[0m",
      "\u001b[1;31mKeyboardInterrupt\u001b[0m                         Traceback (most recent call last)",
      "Cell \u001b[1;32mIn[14], line 6\u001b[0m\n\u001b[0;32m      3\u001b[0m \u001b[38;5;66;03m#wrap it with OneVsRestClassifier\u001b[39;00m\n\u001b[0;32m      4\u001b[0m ovr_class_v1 \u001b[38;5;241m=\u001b[39m OneVsRestClassifier(svm_rbf_v1,n_jobs\u001b[38;5;241m=\u001b[39m\u001b[38;5;241m-\u001b[39m\u001b[38;5;241m1\u001b[39m)\n\u001b[1;32m----> 6\u001b[0m train_test_svm(ovr_class_v1,X_train_sc_pca,X_test_sc_pca,y_train,y_test)\n",
      "Cell \u001b[1;32mIn[5], line 6\u001b[0m, in \u001b[0;36mtrain_test_svm\u001b[1;34m(model, X_train, X_test, y_train, y_test)\u001b[0m\n\u001b[0;32m      3\u001b[0m \u001b[38;5;28;01mdef\u001b[39;00m \u001b[38;5;21mtrain_test_svm\u001b[39m(model,X_train,X_test,y_train,y_test):\n\u001b[0;32m      4\u001b[0m     start_time \u001b[38;5;241m=\u001b[39m time\u001b[38;5;241m.\u001b[39mtime()\n\u001b[1;32m----> 6\u001b[0m     model\u001b[38;5;241m.\u001b[39mfit(X_train,y_train)\n\u001b[0;32m      8\u001b[0m     y_pred \u001b[38;5;241m=\u001b[39m model\u001b[38;5;241m.\u001b[39mpredict(X_test)\n\u001b[0;32m     10\u001b[0m     end_time\u001b[38;5;241m=\u001b[39mtime\u001b[38;5;241m.\u001b[39mtime()\n",
      "File \u001b[1;32m~\\anaconda3\\envs\\MachineLearning\\Lib\\site-packages\\sklearn\\base.py:1473\u001b[0m, in \u001b[0;36m_fit_context.<locals>.decorator.<locals>.wrapper\u001b[1;34m(estimator, *args, **kwargs)\u001b[0m\n\u001b[0;32m   1466\u001b[0m     estimator\u001b[38;5;241m.\u001b[39m_validate_params()\n\u001b[0;32m   1468\u001b[0m \u001b[38;5;28;01mwith\u001b[39;00m config_context(\n\u001b[0;32m   1469\u001b[0m     skip_parameter_validation\u001b[38;5;241m=\u001b[39m(\n\u001b[0;32m   1470\u001b[0m         prefer_skip_nested_validation \u001b[38;5;129;01mor\u001b[39;00m global_skip_validation\n\u001b[0;32m   1471\u001b[0m     )\n\u001b[0;32m   1472\u001b[0m ):\n\u001b[1;32m-> 1473\u001b[0m     \u001b[38;5;28;01mreturn\u001b[39;00m fit_method(estimator, \u001b[38;5;241m*\u001b[39margs, \u001b[38;5;241m*\u001b[39m\u001b[38;5;241m*\u001b[39mkwargs)\n",
      "File \u001b[1;32m~\\anaconda3\\envs\\MachineLearning\\Lib\\site-packages\\sklearn\\multiclass.py:370\u001b[0m, in \u001b[0;36mOneVsRestClassifier.fit\u001b[1;34m(self, X, y, **fit_params)\u001b[0m\n\u001b[0;32m    366\u001b[0m columns \u001b[38;5;241m=\u001b[39m (col\u001b[38;5;241m.\u001b[39mtoarray()\u001b[38;5;241m.\u001b[39mravel() \u001b[38;5;28;01mfor\u001b[39;00m col \u001b[38;5;129;01min\u001b[39;00m Y\u001b[38;5;241m.\u001b[39mT)\n\u001b[0;32m    367\u001b[0m \u001b[38;5;66;03m# In cases where individual estimators are very fast to train setting\u001b[39;00m\n\u001b[0;32m    368\u001b[0m \u001b[38;5;66;03m# n_jobs > 1 in can results in slower performance due to the overhead\u001b[39;00m\n\u001b[0;32m    369\u001b[0m \u001b[38;5;66;03m# of spawning threads.  See joblib issue #112.\u001b[39;00m\n\u001b[1;32m--> 370\u001b[0m \u001b[38;5;28mself\u001b[39m\u001b[38;5;241m.\u001b[39mestimators_ \u001b[38;5;241m=\u001b[39m Parallel(n_jobs\u001b[38;5;241m=\u001b[39m\u001b[38;5;28mself\u001b[39m\u001b[38;5;241m.\u001b[39mn_jobs, verbose\u001b[38;5;241m=\u001b[39m\u001b[38;5;28mself\u001b[39m\u001b[38;5;241m.\u001b[39mverbose)(\n\u001b[0;32m    371\u001b[0m     delayed(_fit_binary)(\n\u001b[0;32m    372\u001b[0m         \u001b[38;5;28mself\u001b[39m\u001b[38;5;241m.\u001b[39mestimator,\n\u001b[0;32m    373\u001b[0m         X,\n\u001b[0;32m    374\u001b[0m         column,\n\u001b[0;32m    375\u001b[0m         fit_params\u001b[38;5;241m=\u001b[39mrouted_params\u001b[38;5;241m.\u001b[39mestimator\u001b[38;5;241m.\u001b[39mfit,\n\u001b[0;32m    376\u001b[0m         classes\u001b[38;5;241m=\u001b[39m[\n\u001b[0;32m    377\u001b[0m             \u001b[38;5;124m\"\u001b[39m\u001b[38;5;124mnot \u001b[39m\u001b[38;5;132;01m%s\u001b[39;00m\u001b[38;5;124m\"\u001b[39m \u001b[38;5;241m%\u001b[39m \u001b[38;5;28mself\u001b[39m\u001b[38;5;241m.\u001b[39mlabel_binarizer_\u001b[38;5;241m.\u001b[39mclasses_[i],\n\u001b[0;32m    378\u001b[0m             \u001b[38;5;28mself\u001b[39m\u001b[38;5;241m.\u001b[39mlabel_binarizer_\u001b[38;5;241m.\u001b[39mclasses_[i],\n\u001b[0;32m    379\u001b[0m         ],\n\u001b[0;32m    380\u001b[0m     )\n\u001b[0;32m    381\u001b[0m     \u001b[38;5;28;01mfor\u001b[39;00m i, column \u001b[38;5;129;01min\u001b[39;00m \u001b[38;5;28menumerate\u001b[39m(columns)\n\u001b[0;32m    382\u001b[0m )\n\u001b[0;32m    384\u001b[0m \u001b[38;5;28;01mif\u001b[39;00m \u001b[38;5;28mhasattr\u001b[39m(\u001b[38;5;28mself\u001b[39m\u001b[38;5;241m.\u001b[39mestimators_[\u001b[38;5;241m0\u001b[39m], \u001b[38;5;124m\"\u001b[39m\u001b[38;5;124mn_features_in_\u001b[39m\u001b[38;5;124m\"\u001b[39m):\n\u001b[0;32m    385\u001b[0m     \u001b[38;5;28mself\u001b[39m\u001b[38;5;241m.\u001b[39mn_features_in_ \u001b[38;5;241m=\u001b[39m \u001b[38;5;28mself\u001b[39m\u001b[38;5;241m.\u001b[39mestimators_[\u001b[38;5;241m0\u001b[39m]\u001b[38;5;241m.\u001b[39mn_features_in_\n",
      "File \u001b[1;32m~\\anaconda3\\envs\\MachineLearning\\Lib\\site-packages\\sklearn\\utils\\parallel.py:74\u001b[0m, in \u001b[0;36mParallel.__call__\u001b[1;34m(self, iterable)\u001b[0m\n\u001b[0;32m     69\u001b[0m config \u001b[38;5;241m=\u001b[39m get_config()\n\u001b[0;32m     70\u001b[0m iterable_with_config \u001b[38;5;241m=\u001b[39m (\n\u001b[0;32m     71\u001b[0m     (_with_config(delayed_func, config), args, kwargs)\n\u001b[0;32m     72\u001b[0m     \u001b[38;5;28;01mfor\u001b[39;00m delayed_func, args, kwargs \u001b[38;5;129;01min\u001b[39;00m iterable\n\u001b[0;32m     73\u001b[0m )\n\u001b[1;32m---> 74\u001b[0m \u001b[38;5;28;01mreturn\u001b[39;00m \u001b[38;5;28msuper\u001b[39m()\u001b[38;5;241m.\u001b[39m\u001b[38;5;21m__call__\u001b[39m(iterable_with_config)\n",
      "File \u001b[1;32m~\\anaconda3\\envs\\MachineLearning\\Lib\\site-packages\\joblib\\parallel.py:2007\u001b[0m, in \u001b[0;36mParallel.__call__\u001b[1;34m(self, iterable)\u001b[0m\n\u001b[0;32m   2001\u001b[0m \u001b[38;5;66;03m# The first item from the output is blank, but it makes the interpreter\u001b[39;00m\n\u001b[0;32m   2002\u001b[0m \u001b[38;5;66;03m# progress until it enters the Try/Except block of the generator and\u001b[39;00m\n\u001b[0;32m   2003\u001b[0m \u001b[38;5;66;03m# reaches the first `yield` statement. This starts the asynchronous\u001b[39;00m\n\u001b[0;32m   2004\u001b[0m \u001b[38;5;66;03m# dispatch of the tasks to the workers.\u001b[39;00m\n\u001b[0;32m   2005\u001b[0m \u001b[38;5;28mnext\u001b[39m(output)\n\u001b[1;32m-> 2007\u001b[0m \u001b[38;5;28;01mreturn\u001b[39;00m output \u001b[38;5;28;01mif\u001b[39;00m \u001b[38;5;28mself\u001b[39m\u001b[38;5;241m.\u001b[39mreturn_generator \u001b[38;5;28;01melse\u001b[39;00m \u001b[38;5;28mlist\u001b[39m(output)\n",
      "File \u001b[1;32m~\\anaconda3\\envs\\MachineLearning\\Lib\\site-packages\\joblib\\parallel.py:1650\u001b[0m, in \u001b[0;36mParallel._get_outputs\u001b[1;34m(self, iterator, pre_dispatch)\u001b[0m\n\u001b[0;32m   1647\u001b[0m     \u001b[38;5;28;01myield\u001b[39;00m\n\u001b[0;32m   1649\u001b[0m     \u001b[38;5;28;01mwith\u001b[39;00m \u001b[38;5;28mself\u001b[39m\u001b[38;5;241m.\u001b[39m_backend\u001b[38;5;241m.\u001b[39mretrieval_context():\n\u001b[1;32m-> 1650\u001b[0m         \u001b[38;5;28;01myield from\u001b[39;00m \u001b[38;5;28mself\u001b[39m\u001b[38;5;241m.\u001b[39m_retrieve()\n\u001b[0;32m   1652\u001b[0m \u001b[38;5;28;01mexcept\u001b[39;00m \u001b[38;5;167;01mGeneratorExit\u001b[39;00m:\n\u001b[0;32m   1653\u001b[0m     \u001b[38;5;66;03m# The generator has been garbage collected before being fully\u001b[39;00m\n\u001b[0;32m   1654\u001b[0m     \u001b[38;5;66;03m# consumed. This aborts the remaining tasks if possible and warn\u001b[39;00m\n\u001b[0;32m   1655\u001b[0m     \u001b[38;5;66;03m# the user if necessary.\u001b[39;00m\n\u001b[0;32m   1656\u001b[0m     \u001b[38;5;28mself\u001b[39m\u001b[38;5;241m.\u001b[39m_exception \u001b[38;5;241m=\u001b[39m \u001b[38;5;28;01mTrue\u001b[39;00m\n",
      "File \u001b[1;32m~\\anaconda3\\envs\\MachineLearning\\Lib\\site-packages\\joblib\\parallel.py:1762\u001b[0m, in \u001b[0;36mParallel._retrieve\u001b[1;34m(self)\u001b[0m\n\u001b[0;32m   1757\u001b[0m \u001b[38;5;66;03m# If the next job is not ready for retrieval yet, we just wait for\u001b[39;00m\n\u001b[0;32m   1758\u001b[0m \u001b[38;5;66;03m# async callbacks to progress.\u001b[39;00m\n\u001b[0;32m   1759\u001b[0m \u001b[38;5;28;01mif\u001b[39;00m ((\u001b[38;5;28mlen\u001b[39m(\u001b[38;5;28mself\u001b[39m\u001b[38;5;241m.\u001b[39m_jobs) \u001b[38;5;241m==\u001b[39m \u001b[38;5;241m0\u001b[39m) \u001b[38;5;129;01mor\u001b[39;00m\n\u001b[0;32m   1760\u001b[0m     (\u001b[38;5;28mself\u001b[39m\u001b[38;5;241m.\u001b[39m_jobs[\u001b[38;5;241m0\u001b[39m]\u001b[38;5;241m.\u001b[39mget_status(\n\u001b[0;32m   1761\u001b[0m         timeout\u001b[38;5;241m=\u001b[39m\u001b[38;5;28mself\u001b[39m\u001b[38;5;241m.\u001b[39mtimeout) \u001b[38;5;241m==\u001b[39m TASK_PENDING)):\n\u001b[1;32m-> 1762\u001b[0m     time\u001b[38;5;241m.\u001b[39msleep(\u001b[38;5;241m0.01\u001b[39m)\n\u001b[0;32m   1763\u001b[0m     \u001b[38;5;28;01mcontinue\u001b[39;00m\n\u001b[0;32m   1765\u001b[0m \u001b[38;5;66;03m# We need to be careful: the job list can be filling up as\u001b[39;00m\n\u001b[0;32m   1766\u001b[0m \u001b[38;5;66;03m# we empty it and Python list are not thread-safe by\u001b[39;00m\n\u001b[0;32m   1767\u001b[0m \u001b[38;5;66;03m# default hence the use of the lock\u001b[39;00m\n",
      "\u001b[1;31mKeyboardInterrupt\u001b[0m: "
     ]
    }
   ],
   "source": [
    "svm_rbf_v1 = SVC(kernel = \"rbf\",C=10,gamma=0.1)\n",
    "\n",
    "#wrap it with OneVsRestClassifier\n",
    "ovr_class_v1 = OneVsRestClassifier(svm_rbf_v1,n_jobs=-1)\n",
    "\n",
    "train_test_svm(ovr_class_v1,X_train_sc_pca,X_test_sc_pca,y_train,y_test)\n",
    "\n"
   ]
  },
  {
   "cell_type": "markdown",
   "id": "56c86249-432b-48c6-8c7d-aa43562e873f",
   "metadata": {},
   "source": [
    "## SO THE ONEVSREST APPROACH TOOK TOO MUCH TIME. I WILL TRY THE ONEVSONE APPROCH NOW"
   ]
  },
  {
   "cell_type": "code",
   "execution_count": null,
   "id": "91435cf3-9f46-4d5f-8dca-ef294f4fd635",
   "metadata": {},
   "outputs": [],
   "source": [
    "svm_ovo_v1 = SVC(kernel = \"rbf\",C=10,gamma=0.1)\n",
    "\n",
    "train_test_svm(svm_ovo_v1,X_train_sc_pca,X_test_sc_pca,y_train,y_test)\n",
    "\n",
    "#THIS TOOK TOO MUCH TIME"
   ]
  },
  {
   "cell_type": "code",
   "execution_count": 19,
   "id": "cb560121-e753-4242-a88a-85ce3a610b24",
   "metadata": {},
   "outputs": [],
   "source": [
    "import numpy as np\n",
    "from sklearn.metrics import pairwise as sklearn_pairwise\n",
    "\n",
    "def reduce_dataset_representative(X, y, num_samples_per_class):\n",
    "    \"\"\"\n",
    "    Reduces the dataset by selecting samples closest to the average per class.\n",
    "    \n",
    "    Args:\n",
    "        X: Feature matrix (num_samples, num_features).\n",
    "        y: Labels (num_samples,).\n",
    "        num_samples_per_class: Desired number of samples per class.\n",
    "\n",
    "    Returns:\n",
    "        X_reduced, y_reduced: Reduced feature matrix and labels, shuffled.\n",
    "    \"\"\"\n",
    "    X = np.array(X)\n",
    "    y = np.array(y)\n",
    "    unique_classes = np.unique(y)\n",
    "    X_reduced, y_reduced = [], []\n",
    "\n",
    "    for cls in unique_classes:\n",
    "        # Get samples belonging to this class\n",
    "        X_cls = X[y == cls]\n",
    "        y_cls = y[y == cls]\n",
    "        \n",
    "        # Compute the average sample for the class\n",
    "        avg_sample = np.mean(X_cls, axis=0, keepdims=True)\n",
    "        \n",
    "        # Compute distances of all samples to the average sample\n",
    "        distances = sklearn_pairwise.euclidean_distances(X_cls, avg_sample).flatten()\n",
    "        \n",
    "        # Get indices of the closest samples\n",
    "        representative_indices = np.argsort(distances)[:num_samples_per_class]\n",
    "        \n",
    "        # Select these samples\n",
    "        X_reduced.append(X_cls[representative_indices])\n",
    "        y_reduced.append(y_cls[representative_indices])\n",
    "    \n",
    "    # Combine all reduced samples\n",
    "    X_reduced = np.vstack(X_reduced)\n",
    "    y_reduced = np.hstack(y_reduced)\n",
    "\n",
    "    # Shuffle the combined data while keeping the pairs intact\n",
    "    indices = np.random.permutation(X_reduced.shape[0])\n",
    "    X_reduced = X_reduced[indices]\n",
    "    y_reduced = y_reduced[indices]\n",
    "    \n",
    "    return X_reduced, y_reduced\n"
   ]
  },
  {
   "cell_type": "code",
   "execution_count": 20,
   "id": "e2efe3f1-47a8-4434-bf50-27c54e6d81d3",
   "metadata": {},
   "outputs": [
    {
     "data": {
      "text/plain": [
       "((25000, 131), (25000,))"
      ]
     },
     "execution_count": 20,
     "metadata": {},
     "output_type": "execute_result"
    }
   ],
   "source": [
    "X_train_reduced,y_train_reduced = reduce_dataset_representative(X_train_sc_pca,y_train,2500)\n",
    "\n",
    "X_train_reduced.shape, y_train_reduced.shape"
   ]
  },
  {
   "cell_type": "code",
   "execution_count": 23,
   "id": "3fa68190-8c1a-4a25-9439-1f232f0d78cb",
   "metadata": {},
   "outputs": [
    {
     "data": {
      "text/plain": [
       "array([6, 3, 7, ..., 9, 7, 1])"
      ]
     },
     "execution_count": 23,
     "metadata": {},
     "output_type": "execute_result"
    }
   ],
   "source": [
    "y_train_reduced"
   ]
  },
  {
   "cell_type": "code",
   "execution_count": 22,
   "id": "9f54da54-23b1-4c90-affd-00d9bb4aff8f",
   "metadata": {},
   "outputs": [
    {
     "data": {
      "image/png": "[encoded data removed]",
      "text/plain": [
       "<Figure size 640x480 with 1 Axes>"
      ]
     },
     "metadata": {},
     "output_type": "display_data"
    }
   ],
   "source": [
    "pd.Series(y_train_reduced).value_counts().sort_index().plot(kind='bar', rot=0);"
   ]
  },
  {
   "cell_type": "code",
   "execution_count": null,
   "id": "e55cd8b9-bc3a-442f-abd2-af7a8655ca76",
   "metadata": {},
   "outputs": [],
   "source": [
    "#X_test_reduced,y_test_reduced = reduce_dataset_representative(X_test_sc_pca,y_test,200)\n",
    "\n",
    "#X_test_reduced.shape, y_test_reduced.shape"
   ]
  },
  {
   "cell_type": "code",
   "execution_count": 24,
   "id": "dfee7fb7-5bb7-4f30-ac0a-649a577a107c",
   "metadata": {},
   "outputs": [
    {
     "name": "stdout",
     "output_type": "stream",
     "text": [
      "Total time: 207.84s | Test Balanced accuracy: 17.81%\n"
     ]
    },
    {
     "data": {
      "text/plain": [
       "17.81"
      ]
     },
     "execution_count": 24,
     "metadata": {},
     "output_type": "execute_result"
    }
   ],
   "source": [
    "svm_ovo_v1 = SVC(kernel = \"rbf\",C=10,gamma=0.1)\n",
    "\n",
    "train_test_svm(svm_ovo_v1,X_train_reduced,X_test_sc_pca,y_train_reduced,y_test)"
   ]
  },
  {
   "cell_type": "markdown",
   "id": "008dcc79-f5be-4fee-8be3-3b36fa2f59f6",
   "metadata": {},
   "source": [
    "## NOW I WILL TRY TO GET A COMBINATION "
   ]
  },
  {
   "cell_type": "code",
   "execution_count": 25,
   "id": "657046bd-479a-46e1-b338-b3bd6170e235",
   "metadata": {},
   "outputs": [],
   "source": [
    "import numpy as np\n",
    "from sklearn.metrics import pairwise as sklearn_pairwise\n",
    "\n",
    "def reduce_dataset_combined(X, y, num_samples_per_class):\n",
    "    \"\"\"\n",
    "    Reduces the dataset by selecting a mix of representative and diverse samples.\n",
    "    \n",
    "    Args:\n",
    "        X: Feature matrix (num_samples, num_features).\n",
    "        y: Labels (num_samples,).\n",
    "        num_samples_per_class: Desired number of samples per class.\n",
    "\n",
    "    Returns:\n",
    "        X_reduced, y_reduced: Reduced feature matrix and labels, shuffled.\n",
    "    \"\"\"\n",
    "    X = np.array(X)\n",
    "    y = np.array(y)\n",
    "    unique_classes = np.unique(y)\n",
    "    X_reduced, y_reduced = [], []\n",
    "    rep_ratio = 0.8  # 80% representative, 20% diverse\n",
    "\n",
    "    for cls in unique_classes:\n",
    "        # Get samples belonging to this class\n",
    "        X_cls = X[y == cls]\n",
    "        y_cls = y[y == cls]\n",
    "        \n",
    "        # Compute the average sample for the class\n",
    "        avg_sample = np.mean(X_cls, axis=0, keepdims=True)\n",
    "        \n",
    "        # Compute distances of all samples to the average sample\n",
    "        distances = sklearn_pairwise.euclidean_distances(X_cls, avg_sample).flatten()\n",
    "        \n",
    "        # Split indices into representative and diverse\n",
    "        num_representative = int(rep_ratio * num_samples_per_class)\n",
    "        num_diverse = num_samples_per_class - num_representative\n",
    "\n",
    "        representative_indices = np.argsort(distances)[:num_representative]\n",
    "        diverse_indices = np.argsort(distances)[-num_diverse:]\n",
    "        \n",
    "        # Combine selected samples\n",
    "        selected_indices = np.concatenate((representative_indices, diverse_indices))\n",
    "        \n",
    "        X_reduced.append(X_cls[selected_indices])\n",
    "        y_reduced.append(y_cls[selected_indices])\n",
    "    \n",
    "    # Combine all reduced samples\n",
    "    X_reduced = np.vstack(X_reduced)\n",
    "    y_reduced = np.hstack(y_reduced)\n",
    "    \n",
    "    # Shuffle the combined data while keeping the pairs intact\n",
    "    indices = np.random.permutation(X_reduced.shape[0])\n",
    "    X_reduced = X_reduced[indices]\n",
    "    y_reduced = y_reduced[indices]\n",
    "    \n",
    "    return X_reduced, y_reduced\n"
   ]
  },
  {
   "cell_type": "code",
   "execution_count": 26,
   "id": "bb1fb9dc-59e8-4ed9-82bd-8b024bb4edb5",
   "metadata": {},
   "outputs": [
    {
     "data": {
      "text/plain": [
       "((25000, 131), (25000,))"
      ]
     },
     "execution_count": 26,
     "metadata": {},
     "output_type": "execute_result"
    }
   ],
   "source": [
    "X_train_reduced_combined,y_train_reduced_combined = reduce_dataset_combined(X_train_sc_pca,y_train,2500)\n",
    "\n",
    "X_train_reduced_combined.shape, y_train_reduced_combined.shape"
   ]
  },
  {
   "cell_type": "code",
   "execution_count": null,
   "id": "16527349-1694-4cb7-94be-e7f7823c8474",
   "metadata": {},
   "outputs": [],
   "source": [
    "train_test_svm(SVC(),X_train_reduced_combined,X_test_sc_pca,y_train_reduced_combined,y_test)"
   ]
  },
  {
   "cell_type": "code",
   "execution_count": 31,
   "id": "bc7de68d-33a8-43b0-ad19-ef6ea32c00e2",
   "metadata": {},
   "outputs": [
    {
     "name": "stdout",
     "output_type": "stream",
     "text": [
      "Fitting 3 folds for each of 50 candidates, totalling 150 fits\n"
     ]
    },
    {
     "ename": "KeyboardInterrupt",
     "evalue": "",
     "output_type": "error",
     "traceback": [
      "\u001b[1;31m---------------------------------------------------------------------------\u001b[0m",
      "\u001b[1;31mKeyboardInterrupt\u001b[0m                         Traceback (most recent call last)",
      "Cell \u001b[1;32mIn[31], line 24\u001b[0m\n\u001b[0;32m     13\u001b[0m random_search \u001b[38;5;241m=\u001b[39m RandomizedSearchCV(\n\u001b[0;32m     14\u001b[0m     estimator\u001b[38;5;241m=\u001b[39msvm,\n\u001b[0;32m     15\u001b[0m     param_distributions\u001b[38;5;241m=\u001b[39mparam_dist,\n\u001b[1;32m   (...)\u001b[0m\n\u001b[0;32m     20\u001b[0m     verbose\u001b[38;5;241m=\u001b[39m\u001b[38;5;241m2\u001b[39m\n\u001b[0;32m     21\u001b[0m )\n\u001b[0;32m     23\u001b[0m \u001b[38;5;66;03m# Fit the model\u001b[39;00m\n\u001b[1;32m---> 24\u001b[0m random_search\u001b[38;5;241m.\u001b[39mfit(X_train_reduced_combined, y_train_reduced_combined)\n\u001b[0;32m     26\u001b[0m \u001b[38;5;66;03m# Print the best parameters and score\u001b[39;00m\n\u001b[0;32m     27\u001b[0m \u001b[38;5;28mprint\u001b[39m(\u001b[38;5;124mf\u001b[39m\u001b[38;5;124m\"\u001b[39m\u001b[38;5;124mBest parameters: \u001b[39m\u001b[38;5;132;01m{\u001b[39;00mrandom_search\u001b[38;5;241m.\u001b[39mbest_params_\u001b[38;5;132;01m}\u001b[39;00m\u001b[38;5;124m\"\u001b[39m)\n",
      "File \u001b[1;32m~\\anaconda3\\envs\\MachineLearning\\Lib\\site-packages\\sklearn\\base.py:1473\u001b[0m, in \u001b[0;36m_fit_context.<locals>.decorator.<locals>.wrapper\u001b[1;34m(estimator, *args, **kwargs)\u001b[0m\n\u001b[0;32m   1466\u001b[0m     estimator\u001b[38;5;241m.\u001b[39m_validate_params()\n\u001b[0;32m   1468\u001b[0m \u001b[38;5;28;01mwith\u001b[39;00m config_context(\n\u001b[0;32m   1469\u001b[0m     skip_parameter_validation\u001b[38;5;241m=\u001b[39m(\n\u001b[0;32m   1470\u001b[0m         prefer_skip_nested_validation \u001b[38;5;129;01mor\u001b[39;00m global_skip_validation\n\u001b[0;32m   1471\u001b[0m     )\n\u001b[0;32m   1472\u001b[0m ):\n\u001b[1;32m-> 1473\u001b[0m     \u001b[38;5;28;01mreturn\u001b[39;00m fit_method(estimator, \u001b[38;5;241m*\u001b[39margs, \u001b[38;5;241m*\u001b[39m\u001b[38;5;241m*\u001b[39mkwargs)\n",
      "File \u001b[1;32m~\\anaconda3\\envs\\MachineLearning\\Lib\\site-packages\\sklearn\\model_selection\\_search.py:1018\u001b[0m, in \u001b[0;36mBaseSearchCV.fit\u001b[1;34m(self, X, y, **params)\u001b[0m\n\u001b[0;32m   1012\u001b[0m     results \u001b[38;5;241m=\u001b[39m \u001b[38;5;28mself\u001b[39m\u001b[38;5;241m.\u001b[39m_format_results(\n\u001b[0;32m   1013\u001b[0m         all_candidate_params, n_splits, all_out, all_more_results\n\u001b[0;32m   1014\u001b[0m     )\n\u001b[0;32m   1016\u001b[0m     \u001b[38;5;28;01mreturn\u001b[39;00m results\n\u001b[1;32m-> 1018\u001b[0m \u001b[38;5;28mself\u001b[39m\u001b[38;5;241m.\u001b[39m_run_search(evaluate_candidates)\n\u001b[0;32m   1020\u001b[0m \u001b[38;5;66;03m# multimetric is determined here because in the case of a callable\u001b[39;00m\n\u001b[0;32m   1021\u001b[0m \u001b[38;5;66;03m# self.scoring the return type is only known after calling\u001b[39;00m\n\u001b[0;32m   1022\u001b[0m first_test_score \u001b[38;5;241m=\u001b[39m all_out[\u001b[38;5;241m0\u001b[39m][\u001b[38;5;124m\"\u001b[39m\u001b[38;5;124mtest_scores\u001b[39m\u001b[38;5;124m\"\u001b[39m]\n",
      "File \u001b[1;32m~\\anaconda3\\envs\\MachineLearning\\Lib\\site-packages\\sklearn\\model_selection\\_search.py:1959\u001b[0m, in \u001b[0;36mRandomizedSearchCV._run_search\u001b[1;34m(self, evaluate_candidates)\u001b[0m\n\u001b[0;32m   1957\u001b[0m \u001b[38;5;28;01mdef\u001b[39;00m \u001b[38;5;21m_run_search\u001b[39m(\u001b[38;5;28mself\u001b[39m, evaluate_candidates):\n\u001b[0;32m   1958\u001b[0m \u001b[38;5;250m    \u001b[39m\u001b[38;5;124;03m\"\"\"Search n_iter candidates from param_distributions\"\"\"\u001b[39;00m\n\u001b[1;32m-> 1959\u001b[0m     evaluate_candidates(\n\u001b[0;32m   1960\u001b[0m         ParameterSampler(\n\u001b[0;32m   1961\u001b[0m             \u001b[38;5;28mself\u001b[39m\u001b[38;5;241m.\u001b[39mparam_distributions, \u001b[38;5;28mself\u001b[39m\u001b[38;5;241m.\u001b[39mn_iter, random_state\u001b[38;5;241m=\u001b[39m\u001b[38;5;28mself\u001b[39m\u001b[38;5;241m.\u001b[39mrandom_state\n\u001b[0;32m   1962\u001b[0m         )\n\u001b[0;32m   1963\u001b[0m     )\n",
      "File \u001b[1;32m~\\anaconda3\\envs\\MachineLearning\\Lib\\site-packages\\sklearn\\model_selection\\_search.py:964\u001b[0m, in \u001b[0;36mBaseSearchCV.fit.<locals>.evaluate_candidates\u001b[1;34m(candidate_params, cv, more_results)\u001b[0m\n\u001b[0;32m    956\u001b[0m \u001b[38;5;28;01mif\u001b[39;00m \u001b[38;5;28mself\u001b[39m\u001b[38;5;241m.\u001b[39mverbose \u001b[38;5;241m>\u001b[39m \u001b[38;5;241m0\u001b[39m:\n\u001b[0;32m    957\u001b[0m     \u001b[38;5;28mprint\u001b[39m(\n\u001b[0;32m    958\u001b[0m         \u001b[38;5;124m\"\u001b[39m\u001b[38;5;124mFitting \u001b[39m\u001b[38;5;132;01m{0}\u001b[39;00m\u001b[38;5;124m folds for each of \u001b[39m\u001b[38;5;132;01m{1}\u001b[39;00m\u001b[38;5;124m candidates,\u001b[39m\u001b[38;5;124m\"\u001b[39m\n\u001b[0;32m    959\u001b[0m         \u001b[38;5;124m\"\u001b[39m\u001b[38;5;124m totalling \u001b[39m\u001b[38;5;132;01m{2}\u001b[39;00m\u001b[38;5;124m fits\u001b[39m\u001b[38;5;124m\"\u001b[39m\u001b[38;5;241m.\u001b[39mformat(\n\u001b[0;32m    960\u001b[0m             n_splits, n_candidates, n_candidates \u001b[38;5;241m*\u001b[39m n_splits\n\u001b[0;32m    961\u001b[0m         )\n\u001b[0;32m    962\u001b[0m     )\n\u001b[1;32m--> 964\u001b[0m out \u001b[38;5;241m=\u001b[39m parallel(\n\u001b[0;32m    965\u001b[0m     delayed(_fit_and_score)(\n\u001b[0;32m    966\u001b[0m         clone(base_estimator),\n\u001b[0;32m    967\u001b[0m         X,\n\u001b[0;32m    968\u001b[0m         y,\n\u001b[0;32m    969\u001b[0m         train\u001b[38;5;241m=\u001b[39mtrain,\n\u001b[0;32m    970\u001b[0m         test\u001b[38;5;241m=\u001b[39mtest,\n\u001b[0;32m    971\u001b[0m         parameters\u001b[38;5;241m=\u001b[39mparameters,\n\u001b[0;32m    972\u001b[0m         split_progress\u001b[38;5;241m=\u001b[39m(split_idx, n_splits),\n\u001b[0;32m    973\u001b[0m         candidate_progress\u001b[38;5;241m=\u001b[39m(cand_idx, n_candidates),\n\u001b[0;32m    974\u001b[0m         \u001b[38;5;241m*\u001b[39m\u001b[38;5;241m*\u001b[39mfit_and_score_kwargs,\n\u001b[0;32m    975\u001b[0m     )\n\u001b[0;32m    976\u001b[0m     \u001b[38;5;28;01mfor\u001b[39;00m (cand_idx, parameters), (split_idx, (train, test)) \u001b[38;5;129;01min\u001b[39;00m product(\n\u001b[0;32m    977\u001b[0m         \u001b[38;5;28menumerate\u001b[39m(candidate_params),\n\u001b[0;32m    978\u001b[0m         \u001b[38;5;28menumerate\u001b[39m(cv\u001b[38;5;241m.\u001b[39msplit(X, y, \u001b[38;5;241m*\u001b[39m\u001b[38;5;241m*\u001b[39mrouted_params\u001b[38;5;241m.\u001b[39msplitter\u001b[38;5;241m.\u001b[39msplit)),\n\u001b[0;32m    979\u001b[0m     )\n\u001b[0;32m    980\u001b[0m )\n\u001b[0;32m    982\u001b[0m \u001b[38;5;28;01mif\u001b[39;00m \u001b[38;5;28mlen\u001b[39m(out) \u001b[38;5;241m<\u001b[39m \u001b[38;5;241m1\u001b[39m:\n\u001b[0;32m    983\u001b[0m     \u001b[38;5;28;01mraise\u001b[39;00m \u001b[38;5;167;01mValueError\u001b[39;00m(\n\u001b[0;32m    984\u001b[0m         \u001b[38;5;124m\"\u001b[39m\u001b[38;5;124mNo fits were performed. \u001b[39m\u001b[38;5;124m\"\u001b[39m\n\u001b[0;32m    985\u001b[0m         \u001b[38;5;124m\"\u001b[39m\u001b[38;5;124mWas the CV iterator empty? \u001b[39m\u001b[38;5;124m\"\u001b[39m\n\u001b[0;32m    986\u001b[0m         \u001b[38;5;124m\"\u001b[39m\u001b[38;5;124mWere there no candidates?\u001b[39m\u001b[38;5;124m\"\u001b[39m\n\u001b[0;32m    987\u001b[0m     )\n",
      "File \u001b[1;32m~\\anaconda3\\envs\\MachineLearning\\Lib\\site-packages\\sklearn\\utils\\parallel.py:74\u001b[0m, in \u001b[0;36mParallel.__call__\u001b[1;34m(self, iterable)\u001b[0m\n\u001b[0;32m     69\u001b[0m config \u001b[38;5;241m=\u001b[39m get_config()\n\u001b[0;32m     70\u001b[0m iterable_with_config \u001b[38;5;241m=\u001b[39m (\n\u001b[0;32m     71\u001b[0m     (_with_config(delayed_func, config), args, kwargs)\n\u001b[0;32m     72\u001b[0m     \u001b[38;5;28;01mfor\u001b[39;00m delayed_func, args, kwargs \u001b[38;5;129;01min\u001b[39;00m iterable\n\u001b[0;32m     73\u001b[0m )\n\u001b[1;32m---> 74\u001b[0m \u001b[38;5;28;01mreturn\u001b[39;00m \u001b[38;5;28msuper\u001b[39m()\u001b[38;5;241m.\u001b[39m\u001b[38;5;21m__call__\u001b[39m(iterable_with_config)\n",
      "File \u001b[1;32m~\\anaconda3\\envs\\MachineLearning\\Lib\\site-packages\\joblib\\parallel.py:2007\u001b[0m, in \u001b[0;36mParallel.__call__\u001b[1;34m(self, iterable)\u001b[0m\n\u001b[0;32m   2001\u001b[0m \u001b[38;5;66;03m# The first item from the output is blank, but it makes the interpreter\u001b[39;00m\n\u001b[0;32m   2002\u001b[0m \u001b[38;5;66;03m# progress until it enters the Try/Except block of the generator and\u001b[39;00m\n\u001b[0;32m   2003\u001b[0m \u001b[38;5;66;03m# reaches the first `yield` statement. This starts the asynchronous\u001b[39;00m\n\u001b[0;32m   2004\u001b[0m \u001b[38;5;66;03m# dispatch of the tasks to the workers.\u001b[39;00m\n\u001b[0;32m   2005\u001b[0m \u001b[38;5;28mnext\u001b[39m(output)\n\u001b[1;32m-> 2007\u001b[0m \u001b[38;5;28;01mreturn\u001b[39;00m output \u001b[38;5;28;01mif\u001b[39;00m \u001b[38;5;28mself\u001b[39m\u001b[38;5;241m.\u001b[39mreturn_generator \u001b[38;5;28;01melse\u001b[39;00m \u001b[38;5;28mlist\u001b[39m(output)\n",
      "File \u001b[1;32m~\\anaconda3\\envs\\MachineLearning\\Lib\\site-packages\\joblib\\parallel.py:1650\u001b[0m, in \u001b[0;36mParallel._get_outputs\u001b[1;34m(self, iterator, pre_dispatch)\u001b[0m\n\u001b[0;32m   1647\u001b[0m     \u001b[38;5;28;01myield\u001b[39;00m\n\u001b[0;32m   1649\u001b[0m     \u001b[38;5;28;01mwith\u001b[39;00m \u001b[38;5;28mself\u001b[39m\u001b[38;5;241m.\u001b[39m_backend\u001b[38;5;241m.\u001b[39mretrieval_context():\n\u001b[1;32m-> 1650\u001b[0m         \u001b[38;5;28;01myield from\u001b[39;00m \u001b[38;5;28mself\u001b[39m\u001b[38;5;241m.\u001b[39m_retrieve()\n\u001b[0;32m   1652\u001b[0m \u001b[38;5;28;01mexcept\u001b[39;00m \u001b[38;5;167;01mGeneratorExit\u001b[39;00m:\n\u001b[0;32m   1653\u001b[0m     \u001b[38;5;66;03m# The generator has been garbage collected before being fully\u001b[39;00m\n\u001b[0;32m   1654\u001b[0m     \u001b[38;5;66;03m# consumed. This aborts the remaining tasks if possible and warn\u001b[39;00m\n\u001b[0;32m   1655\u001b[0m     \u001b[38;5;66;03m# the user if necessary.\u001b[39;00m\n\u001b[0;32m   1656\u001b[0m     \u001b[38;5;28mself\u001b[39m\u001b[38;5;241m.\u001b[39m_exception \u001b[38;5;241m=\u001b[39m \u001b[38;5;28;01mTrue\u001b[39;00m\n",
      "File \u001b[1;32m~\\anaconda3\\envs\\MachineLearning\\Lib\\site-packages\\joblib\\parallel.py:1762\u001b[0m, in \u001b[0;36mParallel._retrieve\u001b[1;34m(self)\u001b[0m\n\u001b[0;32m   1757\u001b[0m \u001b[38;5;66;03m# If the next job is not ready for retrieval yet, we just wait for\u001b[39;00m\n\u001b[0;32m   1758\u001b[0m \u001b[38;5;66;03m# async callbacks to progress.\u001b[39;00m\n\u001b[0;32m   1759\u001b[0m \u001b[38;5;28;01mif\u001b[39;00m ((\u001b[38;5;28mlen\u001b[39m(\u001b[38;5;28mself\u001b[39m\u001b[38;5;241m.\u001b[39m_jobs) \u001b[38;5;241m==\u001b[39m \u001b[38;5;241m0\u001b[39m) \u001b[38;5;129;01mor\u001b[39;00m\n\u001b[0;32m   1760\u001b[0m     (\u001b[38;5;28mself\u001b[39m\u001b[38;5;241m.\u001b[39m_jobs[\u001b[38;5;241m0\u001b[39m]\u001b[38;5;241m.\u001b[39mget_status(\n\u001b[0;32m   1761\u001b[0m         timeout\u001b[38;5;241m=\u001b[39m\u001b[38;5;28mself\u001b[39m\u001b[38;5;241m.\u001b[39mtimeout) \u001b[38;5;241m==\u001b[39m TASK_PENDING)):\n\u001b[1;32m-> 1762\u001b[0m     time\u001b[38;5;241m.\u001b[39msleep(\u001b[38;5;241m0.01\u001b[39m)\n\u001b[0;32m   1763\u001b[0m     \u001b[38;5;28;01mcontinue\u001b[39;00m\n\u001b[0;32m   1765\u001b[0m \u001b[38;5;66;03m# We need to be careful: the job list can be filling up as\u001b[39;00m\n\u001b[0;32m   1766\u001b[0m \u001b[38;5;66;03m# we empty it and Python list are not thread-safe by\u001b[39;00m\n\u001b[0;32m   1767\u001b[0m \u001b[38;5;66;03m# default hence the use of the lock\u001b[39;00m\n",
      "\u001b[1;31mKeyboardInterrupt\u001b[0m: "
     ]
    }
   ],
   "source": [
    "# Define the parameter distribution\n",
    "param_dist = {\n",
    "    'C': [0.01,0.1,1,10],  # Values for C from 0.001 to 1000\n",
    "    \"gamma\": [0.01, 0.1, 1],\n",
    "    'degree': [2, 3, 4],  # Degree only for poly kernel\n",
    "    'kernel': ['poly', 'rbf']  # Kernels to test\n",
    "}\n",
    "\n",
    "# Initialize the SVM\n",
    "svm = SVC()\n",
    "\n",
    "# Set up RandomizedSearchCV\n",
    "random_search = RandomizedSearchCV(\n",
    "    estimator=svm,\n",
    "    param_distributions=param_dist,\n",
    "    n_iter=50,  # Number of different combinations to try\n",
    "    cv=3,  # 3-fold cross-validation\n",
    "    scoring='balanced_accuracy',  # Metric to optimize\n",
    "    n_jobs=-1,  # Use all available cores\n",
    "    verbose=3\n",
    ")\n",
    "\n",
    "# Fit the model\n",
    "random_search.fit(X_train_reduced_combined, y_train_reduced_combined)\n",
    "\n",
    "# Print the best parameters and score\n",
    "print(f\"Best parameters: {random_search.best_params_}\")\n",
    "print(f\"Best cross-validated accuracy: {random_search.best_score_:.4f}\")\n",
    "\n",
    "# To use the best estimator\n",
    "best_svm = random_search.best_estimator_\n"
   ]
  },
  {
   "cell_type": "code",
   "execution_count": null,
   "id": "09e88191-ae16-49fa-ac54-65ba7c659920",
   "metadata": {},
   "outputs": [],
   "source": []
  },
  {
   "cell_type": "code",
   "execution_count": null,
   "id": "49a891ef-a7f2-4f0e-8f2c-b83bab494287",
   "metadata": {},
   "outputs": [],
   "source": []
  },
  {
   "cell_type": "code",
   "execution_count": null,
   "id": "ef552eab-6545-4c8a-8fe8-e049f45991ee",
   "metadata": {},
   "outputs": [],
   "source": []
  },
  {
   "cell_type": "code",
   "execution_count": null,
   "id": "1fc5bf4d-f172-4833-b16c-4135f3cfda7e",
   "metadata": {},
   "outputs": [],
   "source": []
  },
  {
   "cell_type": "code",
   "execution_count": null,
   "id": "170ede65-05af-4250-a905-1c6997e6fe28",
   "metadata": {},
   "outputs": [],
   "source": []
  },
  {
   "cell_type": "code",
   "execution_count": null,
   "id": "0df68470-9234-4703-9abe-4efbf348baf9",
   "metadata": {},
   "outputs": [],
   "source": []
  },
  {
   "cell_type": "code",
   "execution_count": null,
   "id": "02a5f113-6b3e-4151-91a3-74a21a17792c",
   "metadata": {},
   "outputs": [],
   "source": []
  },
  {
   "cell_type": "code",
   "execution_count": null,
   "id": "d3651406-ab65-4385-b584-7a55c7d0ac9a",
   "metadata": {},
   "outputs": [],
   "source": []
  },
  {
   "cell_type": "code",
   "execution_count": null,
   "id": "99d65c6b-0826-48d0-ab42-775a45fb54c6",
   "metadata": {},
   "outputs": [],
   "source": []
  },
  {
   "cell_type": "code",
   "execution_count": null,
   "id": "b18c01a8-1034-4452-af8e-7f01eee2c10e",
   "metadata": {},
   "outputs": [],
   "source": []
  },
  {
   "cell_type": "code",
   "execution_count": null,
   "id": "60001013-8e0f-4b70-af67-fe12bf411a9e",
   "metadata": {},
   "outputs": [],
   "source": []
  },
  {
   "cell_type": "code",
   "execution_count": null,
   "id": "f56604ce-684e-448a-8f11-26081b7a6123",
   "metadata": {},
   "outputs": [
    {
     "name": "stdout",
     "output_type": "stream",
     "text": [
      "Fitting 3 folds for each of 6 candidates, totalling 18 fits\n"
     ]
    },
    {
     "name": "stderr",
     "output_type": "stream",
     "text": [
      "C:\\Users\\xkoun\\anaconda3\\envs\\MachineLearning\\Lib\\site-packages\\sklearn\\model_selection\\_search.py:1102: UserWarning: One or more of the test scores are non-finite: [nan nan nan nan nan nan]\n",
      "  warnings.warn(\n",
      "C:\\Users\\xkoun\\anaconda3\\envs\\MachineLearning\\Lib\\site-packages\\sklearn\\model_selection\\_search.py:1102: UserWarning: One or more of the train scores are non-finite: [nan nan nan nan nan nan]\n",
      "  warnings.warn(\n"
     ]
    },
    {
     "name": "stdout",
     "output_type": "stream",
     "text": [
      "\n",
      "Best parameters: {'degree': 2, 'kernel': 'poly'}\n"
     ]
    }
   ],
   "source": [
    "param_grid={\n",
    "    \"kernel\":[\"poly\",\"rbf\"],\n",
    "    \"degree\":[2,3,4], \n",
    "}\n",
    "\n",
    "grid_search = GridSearchCV(SVC(),param_grid,cv=3,scoring=balanced_accuracy_score,n_jobs=-1,verbose=4, return_train_score=True)\n",
    "\n",
    "grid_search.fit(X_train,y_train)\n",
    "\n",
    "print(f\"\\nBest parameters: {grid_search.best_params_}\")\n",
    "\n",
    "best_svm = grid_search.best_estimator_\n",
    "\n",
    "\n",
    "\n",
    "\n",
    "y_pred_best = best_svm.predict(X_test)\n",
    "best_acc = balanced_accuracy_score(y_test,y_pred_best)\n",
    "print(f\"best balanced accuracy: {best_acc}\")"
   ]
  },
  {
   "cell_type": "markdown",
   "id": "37f9503d-2cf1-455c-aad5-1b98c512ff58",
   "metadata": {},
   "source": [
    "PCA AND STANDARD SCALE THE X"
   ]
  },
  {
   "cell_type": "markdown",
   "id": "7d3b80de-4198-4f7a-b77a-d6ec28fff42b",
   "metadata": {},
   "source": [
    "- The maximum margin classifier forms the basis of SVMs, searating classes with the widest posssible gap to ensure stability and robustness.\n",
    "This stability under perturbations makes it a <u>**powerful choice**</u> for tasks where <u>**small changes in data are common**</u>\n",
    "\n",
    "- SVMs are by definition two-class classifiers.\n",
    "\n",
    "- In scenarios where the number of classes (c > 2), Support Vector Machines (SVMs) can be extended to handle multiclass classification using two common approaches:\n",
    "1. One-vs-the-Rest Approach\n",
    "Train one SVM model for each class. For class i, the SVM distinguishes between class i and all other classes.\n",
    "\n",
    "2. One-vs-One Approach\n",
    "Train c(c-1)/2 binary SVM models, each for a pair of classes (one-vs-one).\n",
    "For a given input the predicted class is determined by **majority voting**, i.e., the class that receives the highest number of \"votes\" across all pairwise models is selected.\n"
   ]
  },
  {
   "cell_type": "markdown",
   "id": "04c20e82-871f-4c26-8e9f-f7a72b3a6854",
   "metadata": {},
   "source": [
    "# AN DO OTI PAIRNIE POLY ORA NA TREJEI MPORO NA KRATISO MONO 2 CLASSES ETSI OSTE NA TREXEI PIO GRIGORA KAI NA DOKIIMAZO PERISSOTERA PRAGMATA"
   ]
  },
  {
   "cell_type": "code",
   "execution_count": null,
   "id": "9d4f8fcf-2636-48c4-82fd-defbaf992042",
   "metadata": {},
   "outputs": [],
   "source": []
  },
  {
   "cell_type": "code",
   "execution_count": null,
   "id": "61472425-8781-43a5-a886-9061e33fcb97",
   "metadata": {},
   "outputs": [],
   "source": []
  },
  {
   "cell_type": "code",
   "execution_count": null,
   "id": "d135fc19-f867-4d9b-82bc-b23036c58f4e",
   "metadata": {},
   "outputs": [],
   "source": []
  }
 ],
 "metadata": {
  "kernelspec": {
   "display_name": "Python 3 (ipykernel)",
   "language": "python",
   "name": "python3"
  },
  "language_info": {
   "codemirror_mode": {
    "name": "ipython",
    "version": 3
   },
   "file_extension": ".py",
   "mimetype": "text/x-python",
   "name": "python",
   "nbconvert_exporter": "python",
   "pygments_lexer": "ipython3",
   "version": "3.11.10"
  }
 },
 "nbformat": 4,
 "nbformat_minor": 5
}
