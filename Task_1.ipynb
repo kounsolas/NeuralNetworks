{
 "cells": [
  {
   "cell_type": "markdown",
   "id": "0bacf223-c762-4dc7-b5a5-7f4713451bf9",
   "metadata": {},
   "source": [
    "# Notebook for exercise 1 "
   ]
  },
  {
   "cell_type": "markdown",
   "id": "eb45d029-eea0-4c66-9d6f-87958459237b",
   "metadata": {},
   "source": [
    "## 1. Get data ready"
   ]
  },
  {
   "cell_type": "markdown",
   "id": "16bc7592-493f-47b8-bde8-8df013c908fd",
   "metadata": {},
   "source": [
    "### 1.1 Create train and test sets"
   ]
  },
  {
   "cell_type": "code",
   "execution_count": 1,
   "id": "86fe7188-e4b5-4d5d-a2ed-74a5c1c07fb9",
   "metadata": {},
   "outputs": [
    {
     "name": "stdout",
     "output_type": "stream",
     "text": [
      "Append: b'training batch 1 of 5'\n",
      "Append: b'training batch 2 of 5'\n",
      "Append: b'training batch 3 of 5'\n",
      "Append: b'training batch 4 of 5'\n",
      "Append: b'training batch 5 of 5'\n",
      "Append: b'testing batch 1 of 1'\n",
      "Shape X_train: (50000, 3072)\n",
      "Shape y_train: (50000,)\n",
      "Shape X_test: (10000, 3072)\n",
      "Shape y_test: (10000,)\n",
      "\n"
     ]
    }
   ],
   "source": [
    "import os\n",
    "os.environ[\"LOKY_MAX_CPU_COUNT\"] = \"8\"  # This line erases a warning that i am getting\n",
    "import numpy as np\n",
    "\n",
    "file_names = []\n",
    "files = []\n",
    "#create X_train, y_train, X_test, y_test\n",
    "X_train = np.full((50000,3072),0,dtype=int)\n",
    "X_test = np.full((10000,3072),0,dtype=int)\n",
    "y_train = np.full((50000,),0,dtype=int)\n",
    "y_test = np.full((10000,),0,dtype=int)\n",
    "\n",
    "def unpickle(file):\n",
    "    import pickle\n",
    "    with open(file, 'rb') as fo:\n",
    "        dict = pickle.load(fo, encoding='bytes')\n",
    "    return dict\n",
    "\n",
    "\n",
    "for i in range(1,6):\n",
    "    file = f\"data_batch_{i}\"\n",
    "    file_names.append(file)\n",
    "\n",
    "file_names.append(\"test_batch\")\n",
    "\n",
    "for file in file_names:\n",
    "    cifar10_dict = unpickle(file)\n",
    "    files.append(cifar10_dict)\n",
    "\n",
    "i=0\n",
    "for file in files:\n",
    "    print(f\"Append: {file[b'batch_label']}\")\n",
    "    if file[b'batch_label'] != b'testing batch 1 of 1':\n",
    "        #this is the X_train, y_train\n",
    "        X_train[i*10000:(i+1)*10000,:] = file[b'data']\n",
    "        y_train[i*10000:(i+1)*10000] = file[b'labels'] \n",
    "        i+=1\n",
    "       \n",
    "    else:\n",
    "        #i have just finished X_train, y_train   \n",
    "        #this is the X_test, y_test\n",
    "        X_test[:,:] = file[b'data']\n",
    "        y_test[:] = file[b'labels']\n",
    "        print(f\"Shape X_train: {X_train.shape}\\nShape y_train: {y_train.shape}\")\n",
    "        print(f\"Shape X_test: {X_test.shape}\\nShape y_test: {y_test.shape}\\n\")\n",
    "        \n",
    "        \n",
    "    \n",
    "    "
   ]
  },
  {
   "cell_type": "markdown",
   "id": "e7a52035-fc2b-474c-bdc4-496423882434",
   "metadata": {},
   "source": [
    "### 1.2 Preprocessing the data\n",
    "From task 0 i am going to use:\n",
    "* StandardScaler\n",
    "* PCA\n",
    "\n",
    "I have seen from the previous exercise that these two, improve my accuracy"
   ]
  },
  {
   "cell_type": "code",
   "execution_count": 2,
   "id": "5db7f568-dd17-4533-8faf-c084934123c3",
   "metadata": {},
   "outputs": [],
   "source": [
    "from sklearn.preprocessing import StandardScaler\n",
    "from sklearn.decomposition import PCA\n",
    "import torch\n",
    "\n",
    "#Feature scaling\n",
    "sc_X = StandardScaler()\n",
    "X_train = sc_X.fit_transform(X_train)\n",
    "X_test = sc_X.transform(X_test)\n",
    "\n",
    "#PCA\n",
    "pca = PCA(n_components=100)\n",
    "X_train = pca.fit_transform(X_train)\n",
    "X_test = pca.transform(X_test)\n",
    "\n",
    "# Turn data into tensors\n",
    "X_train = torch.from_numpy(X_train).type(torch.float)\n",
    "X_test = torch.from_numpy(X_test).type(torch.float)\n",
    "y_train = torch.from_numpy(y_train).type(torch.LongTensor)\n",
    "y_test = torch.from_numpy(y_test).type(torch.LongTensor)\n",
    "\n",
    "\n",
    "\n",
    "\n"
   ]
  },
  {
   "cell_type": "code",
   "execution_count": 3,
   "id": "7199fe03-fe18-4766-9de7-5fbc21620c3d",
   "metadata": {},
   "outputs": [
    {
     "data": {
      "text/plain": [
       "(torch.Size([50000, 100]), torch.Size([10000, 100]))"
      ]
     },
     "execution_count": 3,
     "metadata": {},
     "output_type": "execute_result"
    }
   ],
   "source": [
    "X_train.shape, X_test.shape"
   ]
  },
  {
   "cell_type": "markdown",
   "id": "51951e5e-914e-4b3a-ac1a-0eda515c9157",
   "metadata": {},
   "source": [
    "## 2 Build a model"
   ]
  },
  {
   "cell_type": "markdown",
   "id": "7aa3aed3-4808-4858-9b3c-ac87ab0d494f",
   "metadata": {},
   "source": [
    "### 2.1 Device agnostic code"
   ]
  },
  {
   "cell_type": "code",
   "execution_count": 4,
   "id": "10d443de-daa1-4278-af2f-05b999881a57",
   "metadata": {},
   "outputs": [
    {
     "data": {
      "text/plain": [
       "'cuda'"
      ]
     },
     "execution_count": 4,
     "metadata": {},
     "output_type": "execute_result"
    }
   ],
   "source": [
    "# Create device agnostic code\n",
    "device = \"cuda\" if torch.cuda.is_available() else \"cpu\"\n",
    "device"
   ]
  },
  {
   "cell_type": "markdown",
   "id": "00163109-f540-4463-9277-aeaafbcee129",
   "metadata": {},
   "source": [
    "### 2.2 Build model\n",
    "\n"
   ]
  },
  {
   "cell_type": "code",
   "execution_count": 5,
   "id": "c3252754-9726-476d-932b-5eaf53fe698b",
   "metadata": {},
   "outputs": [
    {
     "data": {
      "text/plain": [
       "model_1(\n",
       "  (linear_layer_stack): Sequential(\n",
       "    (0): Linear(in_features=100, out_features=512, bias=True)\n",
       "    (1): Linear(in_features=512, out_features=512, bias=True)\n",
       "    (2): Linear(in_features=512, out_features=10, bias=True)\n",
       "  )\n",
       ")"
      ]
     },
     "execution_count": 5,
     "metadata": {},
     "output_type": "execute_result"
    }
   ],
   "source": [
    "from torch import nn\n",
    "NUM_FEATURES = X_train.shape[1]  # NUM_FEATURES = columns\n",
    "NUM_CLASSES = 10\n",
    "\n",
    "#Below i will use only linear layers (No ReLU)\n",
    "class model_1(nn.Module):\n",
    "    def __init__(self,input_features,output_features,hidden_units):\n",
    "        super().__init__()\n",
    "        self.linear_layer_stack = nn.Sequential(\n",
    "            nn.Linear(in_features=input_features,out_features=hidden_units),\n",
    "            nn.Linear(in_features=hidden_units,out_features=hidden_units),\n",
    "            nn.Linear(in_features=hidden_units,out_features=output_features)            \n",
    "        )\n",
    "\n",
    "    def forward(self,x):\n",
    "        return self.linear_layer_stack(x)\n",
    "\n",
    "# Create an instance of model_1 and send it to the target device\n",
    "model_1 = model_1(input_features=NUM_FEATURES,\n",
    "                  output_features=NUM_CLASSES,\n",
    "                  hidden_units=512).to(device)\n",
    "\n",
    "model_1"
   ]
  },
  {
   "cell_type": "markdown",
   "id": "f880317b-0055-4f32-ba46-35b147243f47",
   "metadata": {},
   "source": [
    "### 2.3 Create Loss function and Optimizer\n",
    "\n",
    "* I am wokring on a multiclass classification problem, so i will use the `nn.CrossEntropyLoss()` method as my loss function.\n",
    "* For the optimizer i will use the Stochastic Gradient Descent (`SGD`)"
   ]
  },
  {
   "cell_type": "code",
   "execution_count": 6,
   "id": "c7852a3d-2ebc-491f-82e3-9caf421cc97f",
   "metadata": {},
   "outputs": [],
   "source": [
    "loss_fn = nn.CrossEntropyLoss()\n",
    "optimizer = torch.optim.SGD(params = model_1.parameters(),\n",
    "                            lr=0.1)\n"
   ]
  },
  {
   "cell_type": "markdown",
   "id": "a765ac65-1b5e-41b2-810d-0be21d1b6a2f",
   "metadata": {},
   "source": [
    "### 2.4 Create train and test loop"
   ]
  },
  {
   "cell_type": "code",
   "execution_count": 7,
   "id": "9b49f5de-f449-4188-82eb-15d3fdb159f3",
   "metadata": {},
   "outputs": [
    {
     "name": "stdout",
     "output_type": "stream",
     "text": [
      "Epoch: 0 | Loss: 2.73935, Acc: 0.09% | Test Loss: 6.39220, Test Acc: 0.19%\n",
      "Epoch: 10 | Loss: 1.86467, Acc: 0.35% | Test Loss: 1.84553, Test Acc: 0.34%\n",
      "Epoch: 20 | Loss: 1.77506, Acc: 0.39% | Test Loss: 1.76939, Test Acc: 0.39%\n",
      "Epoch: 30 | Loss: 1.75381, Acc: 0.40% | Test Loss: 1.75227, Test Acc: 0.40%\n",
      "Epoch: 40 | Loss: 1.74501, Acc: 0.40% | Test Loss: 1.74490, Test Acc: 0.40%\n",
      "Epoch: 50 | Loss: 1.74028, Acc: 0.40% | Test Loss: 1.74077, Test Acc: 0.40%\n",
      "Epoch: 60 | Loss: 1.73772, Acc: 0.40% | Test Loss: 1.73844, Test Acc: 0.40%\n",
      "Epoch: 70 | Loss: 1.73761, Acc: 0.40% | Test Loss: 1.73828, Test Acc: 0.40%\n",
      "Epoch: 80 | Loss: 1.74090, Acc: 0.40% | Test Loss: 1.74106, Test Acc: 0.40%\n",
      "Epoch: 90 | Loss: 1.73957, Acc: 0.40% | Test Loss: 1.73956, Test Acc: 0.40%\n",
      "Epoch: 99 | Loss: 1.73574, Acc: 0.40% | Test Loss: 1.73894, Test Acc: 0.40%\n"
     ]
    }
   ],
   "source": [
    "from sklearn.metrics import accuracy_score \n",
    "\n",
    "epochs = 100\n",
    "train_loss_values = np.full((epochs),np.nan)\n",
    "test_loss_values = np.full((epochs),np.nan)\n",
    "train_acc_values = np.full((epochs),np.nan)\n",
    "test_acc_values = np.full((epochs),np.nan)\n",
    "\n",
    "#put the data to target device\n",
    "X_train = X_train.to(device)\n",
    "X_test = X_test.to(device)\n",
    "y_train = y_train.to(device)\n",
    "y_test = y_test.to(device)\n",
    "\n",
    "for epoch in range(epochs):\n",
    "    ### Training\n",
    "    model_1.train()\n",
    "    #1. Forward pass\n",
    "    y_logits = model_1(X_train)\n",
    "    y_pred = torch.softmax(y_logits,dim=1).argmax(dim=1) # logits -> pred probabilities -> pred labels\n",
    "    #2. Calculate loss and accuracy\n",
    "    loss = loss_fn(y_logits,y_train)\n",
    "    train_loss_values[epoch] = loss\n",
    "    acc = accuracy_score(y_train.cpu(),y_pred.cpu())\n",
    "    train_acc_values[epoch] = acc\n",
    "    #3. Optimizer zero grad\n",
    "    optimizer.zero_grad()\n",
    "    #4. Loss backwards\n",
    "    loss.backward()\n",
    "    #5.Optimizer step\n",
    "    optimizer.step()\n",
    "\n",
    "    ###Testing\n",
    "    model_1.eval()\n",
    "    with torch.inference_mode():\n",
    "        #1. Forward pass\n",
    "        test_logits = model_1(X_test)\n",
    "        test_pred = torch.softmax(test_logits,dim=1).argmax(dim=1)\n",
    "        #2. Calculate the test loss and accuracy\n",
    "        test_loss = loss_fn(test_logits,y_test)\n",
    "        test_loss_values[epoch] = test_loss\n",
    "        test_acc = accuracy_score(y_test.cpu(),test_pred.cpu())\n",
    "        test_acc_values[epoch] = test_acc\n",
    "\n",
    "    #Print the results\n",
    "    if epoch % 10 == 0 or epoch == epochs-1:\n",
    "        print(f\"Epoch: {epoch} | Loss: {loss:.5f}, Acc: {acc:.2f}% | Test Loss: {test_loss:.5f}, Test Acc: {test_acc:.2f}%\")\n",
    "\n"
   ]
  },
  {
   "cell_type": "markdown",
   "id": "7ab3bbc0-5c6e-42fb-b4d7-bc3228fa05b0",
   "metadata": {},
   "source": [
    "## 3. Save the model_1 in `Ex1_Models` folder"
   ]
  },
  {
   "cell_type": "code",
   "execution_count": 8,
   "id": "d057f764-581c-41f5-bbc4-474f7112171f",
   "metadata": {},
   "outputs": [
    {
     "name": "stdout",
     "output_type": "stream",
     "text": [
      "Saving model to:Ex1_Models\\model_1_1_linear.pth\n"
     ]
    }
   ],
   "source": [
    "from pathlib import Path\n",
    "\n",
    "#1. Create models directory\n",
    "MODEL_PATH = Path(\"Ex1_Models\")\n",
    "MODEL_PATH.mkdir(parents=True, exist_ok=True)\n",
    "\n",
    "#2. Create model save path\n",
    "MODEL_NAME = \"model_1_1_linear.pth\"\n",
    "MODEL_SAVE_PATH = MODEL_PATH / MODEL_NAME\n",
    "\n",
    "#3. save the model state dict\n",
    "print(f\"Saving model to:{MODEL_SAVE_PATH}\")\n",
    "torch.save(obj=model_1.state_dict(),f=MODEL_SAVE_PATH)\n"
   ]
  },
  {
   "cell_type": "markdown",
   "id": "b691c48a-be58-4b42-a199-2027fa52d73b",
   "metadata": {},
   "source": [
    "## 4. Plot the model"
   ]
  },
  {
   "cell_type": "code",
   "execution_count": 9,
   "id": "530d572f-81b8-4170-9951-77d0870ed490",
   "metadata": {},
   "outputs": [
    {
     "data": {
      "image/png": "[encoded data removed]",
      "text/plain": [
       "<Figure size 640x480 with 1 Axes>"
      ]
     },
     "metadata": {},
     "output_type": "display_data"
    },
    {
     "data": {
      "image/png": "[encoded data removed]",
      "text/plain": [
       "<Figure size 640x480 with 1 Axes>"
      ]
     },
     "metadata": {},
     "output_type": "display_data"
    }
   ],
   "source": [
    "import matplotlib.pyplot as plt\n",
    "\n",
    "plt.subplot(2,1,1)\n",
    "plt.plot(train_loss_values,label=\"Train Loss\")\n",
    "plt.plot(test_loss_values,label=\"Test Loss\")\n",
    "plt.title(\"Train Loss vs Test Loss\")\n",
    "plt.xlabel(\"Epochs\")\n",
    "plt.ylabel(\"Loss values\")\n",
    "plt.legend()\n",
    "plt.show()\n",
    "\n",
    "plt.subplot(2,1,2)\n",
    "plt.plot(train_acc_values,label=\"Train Loss\")\n",
    "plt.plot(test_acc_values,label=\"Test Loss\")\n",
    "plt.title(\"Train Accuracy vs Test Accuracy\")\n",
    "plt.xlabel(\"Epochs\")\n",
    "plt.ylabel(\"Accuracy values\")\n",
    "plt.legend()\n",
    "plt.show()\n",
    "\n"
   ]
  }
 ],
 "metadata": {
  "kernelspec": {
   "display_name": "Python 3 (ipykernel)",
   "language": "python",
   "name": "python3"
  },
  "language_info": {
   "codemirror_mode": {
    "name": "ipython",
    "version": 3
   },
   "file_extension": ".py",
   "mimetype": "text/x-python",
   "name": "python",
   "nbconvert_exporter": "python",
   "pygments_lexer": "ipython3",
   "version": "3.11.10"
  }
 },
 "nbformat": 4,
 "nbformat_minor": 5
}
